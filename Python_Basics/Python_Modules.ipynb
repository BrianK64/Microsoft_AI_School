{
 "cells": [
  {
   "cell_type": "markdown",
   "metadata": {},
   "source": [
    "# Microsoft AI School - Python Modules\n",
    "* Date: 12/24/2024 - Present\n",
    "* Python Version: 3.13.1\n",
    "* Notes:"
   ]
  },
  {
   "cell_type": "markdown",
   "metadata": {},
   "source": [
    "# 1. Definition"
   ]
  },
  {
   "cell_type": "markdown",
   "metadata": {},
   "source": [
    "* Module is a file that consists of Python code.\n",
    "* The module file includes functions, variables, and classes.\n",
    "* There are two types of modules: user-defined modules and third-party modules."
   ]
  },
  {
   "cell_type": "markdown",
   "metadata": {},
   "source": [
    "## 2. Syntax"
   ]
  },
  {
   "cell_type": "markdown",
   "metadata": {},
   "source": [
    "* import {module_name}\n",
    "    * imports the module as a whole.\n",
    "    * aliasing: users can assign a different name to a module using the as keyword.\n",
    "        * Allows users to use a shorter or more convenient name for the code, making the code readable and more intuitive.\n",
    "* from {module_name} import {function/class}\n",
    "    * imports specific function(s) or class from the module."
   ]
  },
  {
   "cell_type": "markdown",
   "metadata": {},
   "source": [
    "# 3. Use Cases"
   ]
  },
  {
   "cell_type": "code",
   "execution_count": 1,
   "metadata": {},
   "outputs": [
    {
     "data": {
      "text/plain": [
       "8.0"
      ]
     },
     "execution_count": 1,
     "metadata": {},
     "output_type": "execute_result"
    }
   ],
   "source": [
    "import math\n",
    "math.pow(2, 3)"
   ]
  },
  {
   "cell_type": "code",
   "execution_count": 4,
   "metadata": {},
   "outputs": [
    {
     "name": "stdout",
     "output_type": "stream",
     "text": [
      "8.0\n",
      "3.0\n"
     ]
    }
   ],
   "source": [
    "# aliasing\n",
    "\n",
    "import math as m\n",
    "\n",
    "print(m.pow(2, 3))\n",
    "print(m.sqrt(9))"
   ]
  },
  {
   "cell_type": "code",
   "execution_count": 3,
   "metadata": {},
   "outputs": [
    {
     "name": "stdout",
     "output_type": "stream",
     "text": [
      "32.0\n",
      "3.0\n"
     ]
    }
   ],
   "source": [
    "from math import pow, sqrt\n",
    "\n",
    "print(pow(2, 5))\n",
    "print(sqrt(9))"
   ]
  },
  {
   "cell_type": "code",
   "execution_count": 34,
   "metadata": {},
   "outputs": [
    {
     "name": "stdout",
     "output_type": "stream",
     "text": [
      "[34, 15, 37, 31, 6, 22]\n"
     ]
    }
   ],
   "source": [
    "# exercise - lottery\n",
    "# random.range(start, end) - exclusive\n",
    "\n",
    "import random\n",
    "\n",
    "result = []\n",
    "for i in range(6):\n",
    "    num = random.randrange(6, 46)\n",
    "    if num not in result:\n",
    "        result.append(num)\n",
    "\n",
    "print(result)"
   ]
  },
  {
   "cell_type": "code",
   "execution_count": 32,
   "metadata": {},
   "outputs": [
    {
     "name": "stdout",
     "output_type": "stream",
     "text": [
      "[44, 19, 22, 27, 13, 35]\n"
     ]
    }
   ],
   "source": [
    "# lottery - alternative 1\n",
    "# random.sample\n",
    "import random\n",
    "\n",
    "result = random.sample(range(6, 46), 6)\n",
    "print(result)"
   ]
  },
  {
   "cell_type": "code",
   "execution_count": 33,
   "metadata": {},
   "outputs": [
    {
     "name": "stdout",
     "output_type": "stream",
     "text": [
      "[30, 10, 31, 41, 23]\n"
     ]
    }
   ],
   "source": [
    "# lottery - alternative 2\n",
    "# random.randint(start, end)\n",
    "\n",
    "import random\n",
    "\n",
    "result = []\n",
    "for i in range(6):\n",
    "    num = random.randint(6, 45)\n",
    "    if num in result:\n",
    "        continue\n",
    "    result.append(num)\n",
    "print(result)"
   ]
  },
  {
   "cell_type": "code",
   "execution_count": 38,
   "metadata": {},
   "outputs": [
    {
     "name": "stdout",
     "output_type": "stream",
     "text": [
      "You: paper\tCom: rock\n",
      "You win!\n",
      "You: rock\tCom: scissors\n",
      "You win!\n"
     ]
    }
   ],
   "source": [
    "# Challenge 1\n",
    "# Rock Paper Scissors\n",
    "## checkwin() and continueConfirm() functions\n",
    "import random\n",
    "\n",
    "sel = [\"rock\", \"paper\", \"scissors\"]\n",
    "\n",
    "def checkWin(player1, player2):\n",
    "    # rule describing which move beats which.\n",
    "    rules = {\n",
    "        \"rock\": \"scissors\",\n",
    "        \"paper\": \"rock\",\n",
    "        \"scissors\": \"paper\"\n",
    "    }\n",
    "\n",
    "    # Case 1: player1 win\n",
    "    if player2 == rules[player1]:\n",
    "        return True\n",
    "\n",
    "    # Case 2: player1 and player2 tie\n",
    "    if player1 == player2:\n",
    "        return False\n",
    "\n",
    "    # Case 3: player2 win\n",
    "    if player1 == rules[player2]:\n",
    "        return False\n",
    "\n",
    "def continueConfirm():\n",
    "    play = input(\"Continue? [y/n]\")\n",
    "    if play == \"y\":\n",
    "        return True\n",
    "    return False\n",
    "\n",
    "while True:\n",
    "    user = input(\"Rock Paper Scissors Shoot!\")\n",
    "    com = sel[random.randint(0, 2)]\n",
    "    print(f\"You: {user}\\tCom: {com}\")\n",
    "    if checkWin(user, com):\n",
    "        print(\"You win!\")\n",
    "\n",
    "        if continueConfirm():\n",
    "            continue\n",
    "        else:\n",
    "            break"
   ]
  }
 ],
 "metadata": {
  "kernelspec": {
   "display_name": "Python 3",
   "language": "python",
   "name": "python3"
  },
  "language_info": {
   "codemirror_mode": {
    "name": "ipython",
    "version": 3
   },
   "file_extension": ".py",
   "mimetype": "text/x-python",
   "name": "python",
   "nbconvert_exporter": "python",
   "pygments_lexer": "ipython3",
   "version": "3.13.1"
  }
 },
 "nbformat": 4,
 "nbformat_minor": 2
}
