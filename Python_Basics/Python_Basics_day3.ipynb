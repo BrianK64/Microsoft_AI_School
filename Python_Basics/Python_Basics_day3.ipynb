{
 "cells": [
  {
   "cell_type": "markdown",
   "metadata": {},
   "source": [
    "# Microsoft AI School - 2024/12/23\n"
   ]
  },
  {
   "cell_type": "code",
   "execution_count": 2,
   "metadata": {},
   "outputs": [
    {
     "name": "stdout",
     "output_type": "stream",
     "text": [
      "2 4 6 8 10 12 14 16 18 \n",
      "3 6 9 12 15 18 21 24 27 \n",
      "4 8 12 16 20 24 28 32 36 \n",
      "5 10 15 20 25 30 35 40 45 \n",
      "6 12 18 24 30 36 42 48 54 \n",
      "7 14 21 28 35 42 49 56 63 \n",
      "8 16 24 32 40 48 56 64 72 \n",
      "9 18 27 36 45 54 63 72 81 \n"
     ]
    }
   ],
   "source": [
    "### For Loop Recap Exercise ###\n",
    "# Multiplication Table\n",
    "\n",
    "for base in range(2, 10):       # From multiples of 2 to multiples of 9\n",
    "    for multiplier in range(1, 10):\n",
    "        print(base * multiplier, end = \" \")\n",
    "    print()"
   ]
  },
  {
   "cell_type": "code",
   "execution_count": 7,
   "metadata": {},
   "outputs": [
    {
     "name": "stdout",
     "output_type": "stream",
     "text": [
      "Here is your coffee. Enjoy your drink!\n",
      "Here is your coffee. Enjoy the drink!\n",
      "Here's your change: $1.0.\n",
      "Insufficient amount inserted.\n",
      "Here's your money back.\n",
      "Coffee left in the machine: 8\n",
      "Here is your coffee. Enjoy your drink!\n",
      "Here is your coffee. Enjoy the drink!\n",
      "Here's your change: $2.0.\n",
      "Insufficient amount inserted.\n",
      "Here's your money back.\n",
      "Coffee left in the machine: 6\n",
      "Here is your coffee. Enjoy your drink!\n",
      "Here is your coffee. Enjoy the drink!\n",
      "Here's your change: $1.5.\n",
      "Here is your coffee. Enjoy your drink!\n",
      "Here is your coffee. Enjoy the drink!\n",
      "Here's your change: $2.0.\n",
      "Here is your coffee. Enjoy the drink!\n",
      "Here's your change: $4.0.\n",
      "Here is your coffee. Enjoy your drink!\n",
      "We are out of coffee! Thanks for using the machine!\n"
     ]
    }
   ],
   "source": [
    "### While Loop Recap Exercise ###\n",
    "# Vending Machine Problem\n",
    "# There are initially 10 cans of coffee in the vending machine.\n",
    "# First, the customer inserts money into the machine\n",
    "# If the customer inserts exactly $2, they get a coffee, and the stock decreased by 1.\n",
    "# If the customer inserts more than $2, they get their coffee and their change, and the stock decreased by 1.\n",
    "# If the customer inserts less than $2, their money is returned, and the machine displays the remaining coffee stock.\n",
    "# The machine shuts down when all  the coffee is sold out.\n",
    "\n",
    "stock = 10\n",
    "\n",
    "while True:\n",
    "    credit = float(input(\"Insert payment to proceed: \"))\n",
    "    if credit == 2:\n",
    "        print(\"Here is your coffee. Enjoy your drink!\")\n",
    "        stock -= 1\n",
    "    \n",
    "    elif credit > 2:\n",
    "        print(\"Here is your coffee. Enjoy the drink!\")\n",
    "        print(f\"Here's your change: ${credit - 2}.\")\n",
    "        stock -= 1\n",
    "\n",
    "    elif credit < 2:\n",
    "        print(\"Insufficient amount inserted.\")\n",
    "        print(\"Here's your money back.\")\n",
    "        print(f\"Coffee left in the machine: {stock}\")\n",
    "\n",
    "    if stock == 0:\n",
    "        print(\"We are out of coffee! Thanks for using the machine!\")\n",
    "        break\n",
    "    \n"
   ]
  },
  {
   "cell_type": "markdown",
   "metadata": {},
   "source": [
    "# 1. Dictionary\n",
    "* an unordered sequential data type object that stores data in key: value pairs."
   ]
  },
  {
   "cell_type": "code",
   "execution_count": 10,
   "metadata": {},
   "outputs": [
    {
     "name": "stdout",
     "output_type": "stream",
     "text": [
      "<class 'dict'>\n"
     ]
    }
   ],
   "source": [
    "menu = {\"Pizza\": \"$4\", \"Pasta\": \"$5\", \"burger\": \"$6\"}\n",
    "print(type(menu))"
   ]
  },
  {
   "cell_type": "markdown",
   "metadata": {},
   "source": [
    "## A. Access elements\n",
    "* Look up values using keys\n",
    "* Can also modify, add, or delete key-value pairs after a dictionary is created."
   ]
  },
  {
   "cell_type": "code",
   "execution_count": 11,
   "metadata": {},
   "outputs": [
    {
     "data": {
      "text/plain": [
       "'$4'"
      ]
     },
     "execution_count": 11,
     "metadata": {},
     "output_type": "execute_result"
    }
   ],
   "source": [
    "menu[\"Pizza\"]"
   ]
  },
  {
   "cell_type": "code",
   "execution_count": 12,
   "metadata": {},
   "outputs": [
    {
     "data": {
      "text/plain": [
       "{'Pizza': '$5', 'Pasta': '$5', 'burger': '$6'}"
      ]
     },
     "execution_count": 12,
     "metadata": {},
     "output_type": "execute_result"
    }
   ],
   "source": [
    "menu[\"Pizza\"] = \"$5\"\n",
    "menu"
   ]
  },
  {
   "cell_type": "code",
   "execution_count": 13,
   "metadata": {},
   "outputs": [
    {
     "data": {
      "text/plain": [
       "{'Pizza': '$5', 'Pasta': '$5', 'burger': '$6', 'nuggets': '$3'}"
      ]
     },
     "execution_count": 13,
     "metadata": {},
     "output_type": "execute_result"
    }
   ],
   "source": [
    "menu[\"nuggets\"] = \"$3\"\n",
    "menu"
   ]
  },
  {
   "cell_type": "code",
   "execution_count": 15,
   "metadata": {},
   "outputs": [
    {
     "data": {
      "text/plain": [
       "dict_keys(['Pizza', 'Pasta', 'burger', 'nuggets'])"
      ]
     },
     "execution_count": 15,
     "metadata": {},
     "output_type": "execute_result"
    }
   ],
   "source": [
    "menu.keys()"
   ]
  },
  {
   "cell_type": "code",
   "execution_count": 16,
   "metadata": {},
   "outputs": [
    {
     "data": {
      "text/plain": [
       "dict_values(['$5', '$5', '$6', '$3'])"
      ]
     },
     "execution_count": 16,
     "metadata": {},
     "output_type": "execute_result"
    }
   ],
   "source": [
    "menu.values()"
   ]
  },
  {
   "cell_type": "code",
   "execution_count": 17,
   "metadata": {},
   "outputs": [
    {
     "data": {
      "text/plain": [
       "dict_items([('Pizza', '$5'), ('Pasta', '$5'), ('burger', '$6'), ('nuggets', '$3')])"
      ]
     },
     "execution_count": 17,
     "metadata": {},
     "output_type": "execute_result"
    }
   ],
   "source": [
    "menu.items()"
   ]
  },
  {
   "cell_type": "code",
   "execution_count": 18,
   "metadata": {},
   "outputs": [
    {
     "name": "stdout",
     "output_type": "stream",
     "text": [
      "Pizza\n",
      "Pasta\n",
      "burger\n",
      "nuggets\n"
     ]
    }
   ],
   "source": [
    "for item in menu.keys():\n",
    "    print(item)"
   ]
  },
  {
   "cell_type": "code",
   "execution_count": 19,
   "metadata": {},
   "outputs": [
    {
     "name": "stdout",
     "output_type": "stream",
     "text": [
      "$5\n",
      "$5\n",
      "$6\n",
      "$3\n"
     ]
    }
   ],
   "source": [
    "for price in menu.values():\n",
    "    print(price)"
   ]
  },
  {
   "cell_type": "code",
   "execution_count": 20,
   "metadata": {},
   "outputs": [
    {
     "name": "stdout",
     "output_type": "stream",
     "text": [
      "('Pizza', '$5')\n",
      "('Pasta', '$5')\n",
      "('burger', '$6')\n",
      "('nuggets', '$3')\n"
     ]
    }
   ],
   "source": [
    "for info in menu.items():\n",
    "    print(info)"
   ]
  },
  {
   "cell_type": "markdown",
   "metadata": {},
   "source": [
    "#### a. Deletion"
   ]
  },
  {
   "cell_type": "markdown",
   "metadata": {},
   "source": [
    "##### pop()"
   ]
  },
  {
   "cell_type": "code",
   "execution_count": 21,
   "metadata": {},
   "outputs": [
    {
     "data": {
      "text/plain": [
       "{'Pizza': '$5', 'Pasta': '$5', 'burger': '$6', 'nuggets': '$3'}"
      ]
     },
     "execution_count": 21,
     "metadata": {},
     "output_type": "execute_result"
    }
   ],
   "source": [
    "menu"
   ]
  },
  {
   "cell_type": "code",
   "execution_count": 22,
   "metadata": {},
   "outputs": [
    {
     "data": {
      "text/plain": [
       "'$3'"
      ]
     },
     "execution_count": 22,
     "metadata": {},
     "output_type": "execute_result"
    }
   ],
   "source": [
    "# Delete an element\n",
    "menu.pop(\"nuggets\")"
   ]
  },
  {
   "cell_type": "code",
   "execution_count": 23,
   "metadata": {},
   "outputs": [
    {
     "data": {
      "text/plain": [
       "{'Pizza': '$5', 'Pasta': '$5', 'burger': '$6'}"
      ]
     },
     "execution_count": 23,
     "metadata": {},
     "output_type": "execute_result"
    }
   ],
   "source": [
    "menu"
   ]
  },
  {
   "cell_type": "markdown",
   "metadata": {},
   "source": [
    "##### popitem()   "
   ]
  },
  {
   "cell_type": "code",
   "execution_count": 25,
   "metadata": {},
   "outputs": [
    {
     "data": {
      "text/plain": [
       "('burger', '$6')"
      ]
     },
     "execution_count": 25,
     "metadata": {},
     "output_type": "execute_result"
    }
   ],
   "source": [
    "menu.popitem()"
   ]
  },
  {
   "cell_type": "code",
   "execution_count": 26,
   "metadata": {},
   "outputs": [
    {
     "data": {
      "text/plain": [
       "{'Pizza': '$5', 'Pasta': '$5'}"
      ]
     },
     "execution_count": 26,
     "metadata": {},
     "output_type": "execute_result"
    }
   ],
   "source": [
    "menu"
   ]
  },
  {
   "cell_type": "code",
   "execution_count": 30,
   "metadata": {},
   "outputs": [
    {
     "name": "stdout",
     "output_type": "stream",
     "text": [
      "jacket -> Zara\n",
      "shoes -> Nike\n",
      "pants -> Levi\n"
     ]
    }
   ],
   "source": [
    "brands = {\"jacket\": \"Zara\", \"shoes\": \"Nike\", \"pants\": \"Levi\"}\n",
    "for cloth, brand in brands.items():\n",
    "    print(f\"{cloth} -> {brand}\")"
   ]
  },
  {
   "cell_type": "markdown",
   "metadata": {},
   "source": [
    "## B. Dictionary Methods\n",
    "\n",
    "| method | Description | Usage Example | Error |\n",
    "|--------|-------------|---------------|-------|\n",
    "| get() | retruns the value of a specified key | {dict}.get({key}) | |\n",
    "| pop() | removes a key-value pair and returns the value of the key | {dict}.pop({key}) | KeyError if the key doesn't exist |\n",
    "| del() | deletes a key-value pair | del {dict}[{key}] | |\n",
    "| items() | returns all the key-value pairs as tuples | {dict}.items() | |\n",
    "| keys() | returns all the keys | {dict}.keys() | |\n",
    "| values() | returns all the values | {dict}.values() |  |"
   ]
  },
  {
   "cell_type": "code",
   "execution_count": 39,
   "metadata": {},
   "outputs": [
    {
     "name": "stdout",
     "output_type": "stream",
     "text": [
      "New task 'Math homework' add to the list!\n",
      "******************************\n",
      "Here is your updated to-do list:\n",
      "1. Math homework\n",
      "******************************\n",
      "New task 'English homework' add to the list!\n",
      "******************************\n",
      "Here is your updated to-do list:\n",
      "1. Math homework\n",
      "2. English homework\n",
      "******************************\n",
      "Invalid option, please try again\n",
      "New task 'Science project' add to the list!\n",
      "******************************\n",
      "Here is your updated to-do list:\n",
      "1. Math homework\n",
      "2. English homework\n",
      "3. Science project\n",
      "******************************\n",
      "You have completed the taks 'English homework' on the list!\n",
      "******************************\n",
      "Here is your updated to-do list:\n",
      "1. Math homework\n",
      "2. Science project\n",
      "******************************\n",
      "Exiting the to-do list program...\n"
     ]
    }
   ],
   "source": [
    "# Exercise 1\n",
    "# To-do List\n",
    "# User can decide to add a new task, remove a completed task, or exit\n",
    "# Use a list object\n",
    "\n",
    "todo = []\n",
    "\n",
    "while True:\n",
    "    command = int(input(\"Press 1 to ADD a New Task, 2 to Remove a Completed Task, or 3 to Exit.\"))\n",
    "    # Add a new task\n",
    "    if command == 1:\n",
    "        task = input(\"Enter a new taks to add: \")\n",
    "        todo.append(task)\n",
    "        print(f\"New task '{task}' add to the list!\")\n",
    "        print(\"*\" * 30)\n",
    "\n",
    "    # Remove a completed task\n",
    "    elif command == 2:\n",
    "        task = input(\"Enter a completed task to remove\")\n",
    "        ## If the task is not in the list or there was a typo\n",
    "        if task not in todo:\n",
    "            print(f\"The taks '{task}' is not in your to-do list, please check again\")\n",
    "            continue\n",
    "        todo.remove(task)\n",
    "        print(f\"You have completed the taks '{task}' on the list!\")\n",
    "        print(\"*\" * 30)\n",
    "\n",
    "    # Exit the progrma\n",
    "    elif command == 3:\n",
    "        print(\"Exiting the to-do list program...\")\n",
    "        break\n",
    "\n",
    "    # Invalid command\n",
    "    else:\n",
    "        print(\"Invalid option, please try again\")\n",
    "        continue\n",
    "\n",
    "    print(\"Here is your updated to-do list:\")\n",
    "    for i in range(len(todo)):\n",
    "        print(f\"{i+1}. {todo[i]}\")\n",
    "    print(\"*\" * 30)"
   ]
  },
  {
   "cell_type": "code",
   "execution_count": 36,
   "metadata": {},
   "outputs": [
    {
     "name": "stdout",
     "output_type": "stream",
     "text": [
      "The new contact has been successfully added to your contacts!\n",
      "The new contact has been successfully added to your contacts!\n",
      "Here are all the contacts you can search:  ['John', 'Jane']\n",
      "The phone number for John is: 111-111-1111\n",
      "The new contact has been successfully added to your contacts!\n",
      "The new contact has been successfully added to your contacts!\n",
      "Here are all the contacts you can search:  ['John', 'Jane', 'James', 'Jake']\n",
      "The phone number for Jake is: 987-654-3210\n",
      "Invalid option. Please try again.\n",
      "Exiting the program. Thanks for using our service!\n"
     ]
    }
   ],
   "source": [
    "# Exercise 2\n",
    "# Phone Number Lookup Program\n",
    "# Users are given options to 1. add a new contact information in a name, phone number pair\n",
    "# 2. search through the contacts via names\n",
    "# 0. exit the program.\n",
    "# Use dictionary object\n",
    "\n",
    "contacts = {}\n",
    "\n",
    "while True:\n",
    "    command = int(input(\"Press 1 to Add a New Contact, 2 to Search Contacts by Name, or 0 to Exit: \"))\n",
    "\n",
    "    # Add a new contact informaiton\n",
    "    if command == 1:\n",
    "        name = input(\"Please enter the contact's name: \")\n",
    "        number = input(\"Please enter the contact's phone number: xxx-xxx-xxxx\")\n",
    "        contacts[name] = number\n",
    "        print(\"The new contact has been successfully added to your contacts!\")\n",
    "    \n",
    "    # Search contacts by name\n",
    "    elif command == 2:\n",
    "        name = input(\"Please enter the contact's name to look up: \")\n",
    "        print(\"Here are all the contacts you can search: \", [name for name in contacts])\n",
    "        ## If the contact's name the user wants to look up doesn't exist in the contacts.\n",
    "        if name not in contacts:\n",
    "            print(\"The name you entered does not exist in your contacts.\")\n",
    "            continue\n",
    "        print(f\"The phone number for {name} is: {contacts[name]}\")\n",
    "\n",
    "    # Exit the program\n",
    "    elif command == 0:\n",
    "        print(\"Exiting the program. Thanks for using our service!\")\n",
    "        break\n",
    "\n",
    "    # Invalid command\n",
    "    else:\n",
    "        print(\"Invalid option. Please try again.\")\n",
    "        continue"
   ]
  },
  {
   "cell_type": "code",
   "execution_count": 43,
   "metadata": {},
   "outputs": [
    {
     "name": "stdout",
     "output_type": "stream",
     "text": [
      "The average score for Alice is: 89.0\n",
      "The average score for Bob is: 82.0\n",
      "The average score for Charlie is: 92.0\n",
      "The overall average score for all students is: 87.66666666666667\n",
      "Studnets who have at least one score of 90 or higher: ['Alice', 'Charlie']\n"
     ]
    }
   ],
   "source": [
    "# Challenge 1\n",
    "# Find Average Score\n",
    "# Represent three students and their scores using a list and a dictionary.\n",
    "# Calculate and display each student's average score.\n",
    "# Calculate and display the overall average score for all students.\n",
    "# Additionally, identify and display the students who have at least one score of 90 or higher.\n",
    "\n",
    "students = {\"Alice\": [90, 85, 92],\n",
    "         \"Bob\": [78, 80, 88],\n",
    "         \"Charlie\": [95, 92, 89]}\n",
    "\n",
    "mean_students = {}\n",
    "score_90 = []\n",
    "\n",
    "for student, scores in students.items():\n",
    "    mean_students[student] = sum(scores) / len(scores)\n",
    "    print(f\"The average score for {student} is: {mean_students[student]}\")\n",
    "\n",
    "    # Also identify studnets with at least one score of 90 or higher\n",
    "    if any(score > 90 for score in scores):\n",
    "        score_90.append(student)\n",
    "\n",
    "mean_overall = sum(mean_students.values()) / len(mean_students)\n",
    "print(f\"The overall average score for all students is: {mean_overall}\")\n",
    "\n",
    "print(f\"Studnets who have at least one score of 90 or higher: {score_90}\")\n",
    "\n",
    "\n",
    "\n"
   ]
  },
  {
   "cell_type": "markdown",
   "metadata": {},
   "source": [
    "# 2. Sequential Data Type Objects\n",
    "* objects whose elements are stored in an ordered sequence.\n",
    "* List, Tuple, string, and range all fall under this category.\n",
    "* All objects in this category share some key traits and characteristics.\n",
    "    * in operator\n",
    "        * Used to check if a value exists in a sequence."
   ]
  },
  {
   "cell_type": "markdown",
   "metadata": {},
   "source": [
    "## A. Tuple\n",
    "* In a form of ({element_1}, {element_2}, ... {element_n})\n",
    "* Unlike any other sequential data type objects such as list and dictionary, tuples are immutable, meaning they cannot be modified."
   ]
  },
  {
   "cell_type": "code",
   "execution_count": 44,
   "metadata": {},
   "outputs": [
    {
     "name": "stdout",
     "output_type": "stream",
     "text": [
      "<class 'tuple'>\n",
      "<class 'tuple'>\n",
      "<class 'tuple'>\n",
      "<class 'tuple'>\n",
      "<class 'tuple'>\n"
     ]
    }
   ],
   "source": [
    "# Tuple representations\n",
    "t1 = ()\n",
    "t2 = (1, )\n",
    "t3 = (1, 2, 3)\n",
    "t4 = 1, 2, 3\n",
    "t5 = ('a', 'b', ('ab', 'cd'))\n",
    "\n",
    "tuples = [t1, t2, t3, t4, t5]\n",
    "\n",
    "for tpl in tuples:\n",
    "    print(type(tpl))"
   ]
  },
  {
   "cell_type": "code",
   "execution_count": 45,
   "metadata": {},
   "outputs": [
    {
     "data": {
      "text/plain": [
       "(1, 2, 3, 4, 5)"
      ]
     },
     "execution_count": 45,
     "metadata": {},
     "output_type": "execute_result"
    }
   ],
   "source": [
    "(1, 2, 3) + (4, 5)"
   ]
  },
  {
   "cell_type": "code",
   "execution_count": 46,
   "metadata": {},
   "outputs": [
    {
     "data": {
      "text/plain": [
       "(1, 2, 3, 1, 2, 3, 1, 2, 3)"
      ]
     },
     "execution_count": 46,
     "metadata": {},
     "output_type": "execute_result"
    }
   ],
   "source": [
    "(1, 2, 3) * 3"
   ]
  },
  {
   "cell_type": "code",
   "execution_count": 47,
   "metadata": {},
   "outputs": [
    {
     "data": {
      "text/plain": [
       "(0, 1, 2, 3, 4)"
      ]
     },
     "execution_count": 47,
     "metadata": {},
     "output_type": "execute_result"
    }
   ],
   "source": [
    "tuple(range(5))"
   ]
  },
  {
   "cell_type": "code",
   "execution_count": 48,
   "metadata": {},
   "outputs": [
    {
     "name": "stdout",
     "output_type": "stream",
     "text": [
      "Try again\n",
      "Try again\n",
      "Try again\n",
      "Correct!\n"
     ]
    }
   ],
   "source": [
    "# Exercise - Tuple\n",
    "fruit = [\"apple\", \"grape\", \"persimmon\"]\n",
    "\n",
    "while True: \n",
    "    fav = input(\"Guess the bot's favorite fuirt: \")\n",
    "    if fav in fruit:\n",
    "        print(\"Correct!\")\n",
    "        break\n",
    "    else:\n",
    "        print(\"Try again\")\n",
    "        "
   ]
  }
 ],
 "metadata": {
  "kernelspec": {
   "display_name": "Python 3",
   "language": "python",
   "name": "python3"
  },
  "language_info": {
   "codemirror_mode": {
    "name": "ipython",
    "version": 3
   },
   "file_extension": ".py",
   "mimetype": "text/x-python",
   "name": "python",
   "nbconvert_exporter": "python",
   "pygments_lexer": "ipython3",
   "version": "3.13.1"
  }
 },
 "nbformat": 4,
 "nbformat_minor": 2
}
