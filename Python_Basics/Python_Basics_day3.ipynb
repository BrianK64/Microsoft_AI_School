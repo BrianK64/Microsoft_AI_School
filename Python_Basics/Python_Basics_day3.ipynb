{
 "cells": [
  {
   "cell_type": "markdown",
   "metadata": {},
   "source": [
    "# Microsoft AI School - 2024/12/23\n"
   ]
  },
  {
   "cell_type": "code",
   "execution_count": 2,
   "metadata": {},
   "outputs": [
    {
     "name": "stdout",
     "output_type": "stream",
     "text": [
      "2 4 6 8 10 12 14 16 18 \n",
      "3 6 9 12 15 18 21 24 27 \n",
      "4 8 12 16 20 24 28 32 36 \n",
      "5 10 15 20 25 30 35 40 45 \n",
      "6 12 18 24 30 36 42 48 54 \n",
      "7 14 21 28 35 42 49 56 63 \n",
      "8 16 24 32 40 48 56 64 72 \n",
      "9 18 27 36 45 54 63 72 81 \n"
     ]
    }
   ],
   "source": [
    "### For Loop Recap Exercise ###\n",
    "# Multiplication Table\n",
    "\n",
    "for base in range(2, 10):       # From multiples of 2 to multiples of 9\n",
    "    for multiplier in range(1, 10):\n",
    "        print(base * multiplier, end = \" \")\n",
    "    print()"
   ]
  },
  {
   "cell_type": "code",
   "execution_count": 7,
   "metadata": {},
   "outputs": [
    {
     "name": "stdout",
     "output_type": "stream",
     "text": [
      "Here is your coffee. Enjoy your drink!\n",
      "Here is your coffee. Enjoy the drink!\n",
      "Here's your change: $1.0.\n",
      "Insufficient amount inserted.\n",
      "Here's your money back.\n",
      "Coffee left in the machine: 8\n",
      "Here is your coffee. Enjoy your drink!\n",
      "Here is your coffee. Enjoy the drink!\n",
      "Here's your change: $2.0.\n",
      "Insufficient amount inserted.\n",
      "Here's your money back.\n",
      "Coffee left in the machine: 6\n",
      "Here is your coffee. Enjoy your drink!\n",
      "Here is your coffee. Enjoy the drink!\n",
      "Here's your change: $1.5.\n",
      "Here is your coffee. Enjoy your drink!\n",
      "Here is your coffee. Enjoy the drink!\n",
      "Here's your change: $2.0.\n",
      "Here is your coffee. Enjoy the drink!\n",
      "Here's your change: $4.0.\n",
      "Here is your coffee. Enjoy your drink!\n",
      "We are out of coffee! Thanks for using the machine!\n"
     ]
    }
   ],
   "source": [
    "### While Loop Recap Exercise ###\n",
    "# Vending Machine Problem\n",
    "# There are initially 10 cans of coffee in the vending machine.\n",
    "# First, the customer inserts money into the machine\n",
    "# If the customer inserts exactly $2, they get a coffee, and the stock decreased by 1.\n",
    "# If the customer inserts more than $2, they get their coffee and their change, and the stock decreased by 1.\n",
    "# If the customer inserts less than $2, their money is returned, and the machine displays the remaining coffee stock.\n",
    "# The machine shuts down when all  the coffee is sold out.\n",
    "\n",
    "stock = 10\n",
    "\n",
    "while True:\n",
    "    credit = float(input(\"Insert payment to proceed: \"))\n",
    "    if credit == 2:\n",
    "        print(\"Here is your coffee. Enjoy your drink!\")\n",
    "        stock -= 1\n",
    "    \n",
    "    elif credit > 2:\n",
    "        print(\"Here is your coffee. Enjoy the drink!\")\n",
    "        print(f\"Here's your change: ${credit - 2}.\")\n",
    "        stock -= 1\n",
    "\n",
    "    elif credit < 2:\n",
    "        print(\"Insufficient amount inserted.\")\n",
    "        print(\"Here's your money back.\")\n",
    "        print(f\"Coffee left in the machine: {stock}\")\n",
    "\n",
    "    if stock == 0:\n",
    "        print(\"We are out of coffee! Thanks for using the machine!\")\n",
    "        break\n",
    "    \n"
   ]
  },
  {
   "cell_type": "markdown",
   "metadata": {},
   "source": [
    "# Tuple and Sequential Data Types"
   ]
  }
 ],
 "metadata": {
  "kernelspec": {
   "display_name": "Python 3",
   "language": "python",
   "name": "python3"
  },
  "language_info": {
   "codemirror_mode": {
    "name": "ipython",
    "version": 3
   },
   "file_extension": ".py",
   "mimetype": "text/x-python",
   "name": "python",
   "nbconvert_exporter": "python",
   "pygments_lexer": "ipython3",
   "version": "3.13.1"
  }
 },
 "nbformat": 4,
 "nbformat_minor": 2
}
