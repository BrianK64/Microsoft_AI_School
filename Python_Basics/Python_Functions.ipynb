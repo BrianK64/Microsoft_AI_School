{
 "cells": [
  {
   "cell_type": "markdown",
   "metadata": {},
   "source": [
    "# Microsoft AI School - Python Functions\n",
    "* Date: 2024/12/23 - Present\n",
    "* Python Version: Python 3.13.1\n",
    "* Notes:"
   ]
  },
  {
   "cell_type": "markdown",
   "metadata": {},
   "source": [
    "# 1. Functions\n",
    "* A Python function is a \"blackbox\" that takes inputs(parameterS) and produces a output(return value)."
   ]
  },
  {
   "cell_type": "markdown",
   "metadata": {},
   "source": [
    "## A. Built-in Functions\n",
    "* Functions that are pre-defined in Python and available for usewithout requireing any additional imports or definitions.\n",
    "* Examples\n",
    "    * print()\n",
    "    * del()\n",
    "    * type()\n",
    "    * input()\n",
    "    * range()\n",
    "    * str()"
   ]
  },
  {
   "cell_type": "code",
   "execution_count": 29,
   "metadata": {},
   "outputs": [
    {
     "data": {
      "text/plain": [
       "['ArithmeticError',\n",
       " 'AssertionError',\n",
       " 'AttributeError',\n",
       " 'BaseException',\n",
       " 'BaseExceptionGroup',\n",
       " 'BlockingIOError',\n",
       " 'BrokenPipeError',\n",
       " 'BufferError',\n",
       " 'BytesWarning',\n",
       " 'ChildProcessError',\n",
       " 'ConnectionAbortedError',\n",
       " 'ConnectionError',\n",
       " 'ConnectionRefusedError',\n",
       " 'ConnectionResetError',\n",
       " 'DeprecationWarning',\n",
       " 'EOFError',\n",
       " 'Ellipsis',\n",
       " 'EncodingWarning',\n",
       " 'EnvironmentError',\n",
       " 'Exception',\n",
       " 'ExceptionGroup',\n",
       " 'False',\n",
       " 'FileExistsError',\n",
       " 'FileNotFoundError',\n",
       " 'FloatingPointError',\n",
       " 'FutureWarning',\n",
       " 'GeneratorExit',\n",
       " 'IOError',\n",
       " 'ImportError',\n",
       " 'ImportWarning',\n",
       " 'IndentationError',\n",
       " 'IndexError',\n",
       " 'InterruptedError',\n",
       " 'IsADirectoryError',\n",
       " 'KeyError',\n",
       " 'KeyboardInterrupt',\n",
       " 'LookupError',\n",
       " 'MemoryError',\n",
       " 'ModuleNotFoundError',\n",
       " 'NameError',\n",
       " 'None',\n",
       " 'NotADirectoryError',\n",
       " 'NotImplemented',\n",
       " 'NotImplementedError',\n",
       " 'OSError',\n",
       " 'OverflowError',\n",
       " 'PendingDeprecationWarning',\n",
       " 'PermissionError',\n",
       " 'ProcessLookupError',\n",
       " 'PythonFinalizationError',\n",
       " 'RecursionError',\n",
       " 'ReferenceError',\n",
       " 'ResourceWarning',\n",
       " 'RuntimeError',\n",
       " 'RuntimeWarning',\n",
       " 'StopAsyncIteration',\n",
       " 'StopIteration',\n",
       " 'SyntaxError',\n",
       " 'SyntaxWarning',\n",
       " 'SystemError',\n",
       " 'SystemExit',\n",
       " 'TabError',\n",
       " 'TimeoutError',\n",
       " 'True',\n",
       " 'TypeError',\n",
       " 'UnboundLocalError',\n",
       " 'UnicodeDecodeError',\n",
       " 'UnicodeEncodeError',\n",
       " 'UnicodeError',\n",
       " 'UnicodeTranslateError',\n",
       " 'UnicodeWarning',\n",
       " 'UserWarning',\n",
       " 'ValueError',\n",
       " 'Warning',\n",
       " 'WindowsError',\n",
       " 'ZeroDivisionError',\n",
       " '_IncompleteInputError',\n",
       " '__IPYTHON__',\n",
       " '__build_class__',\n",
       " '__debug__',\n",
       " '__doc__',\n",
       " '__import__',\n",
       " '__loader__',\n",
       " '__name__',\n",
       " '__package__',\n",
       " '__spec__',\n",
       " 'abs',\n",
       " 'aiter',\n",
       " 'all',\n",
       " 'anext',\n",
       " 'any',\n",
       " 'ascii',\n",
       " 'bin',\n",
       " 'bool',\n",
       " 'breakpoint',\n",
       " 'bytearray',\n",
       " 'bytes',\n",
       " 'callable',\n",
       " 'chr',\n",
       " 'classmethod',\n",
       " 'compile',\n",
       " 'complex',\n",
       " 'copyright',\n",
       " 'credits',\n",
       " 'delattr',\n",
       " 'dict',\n",
       " 'dir',\n",
       " 'display',\n",
       " 'divmod',\n",
       " 'enumerate',\n",
       " 'eval',\n",
       " 'exec',\n",
       " 'execfile',\n",
       " 'filter',\n",
       " 'float',\n",
       " 'format',\n",
       " 'frozenset',\n",
       " 'get_ipython',\n",
       " 'getattr',\n",
       " 'globals',\n",
       " 'hasattr',\n",
       " 'hash',\n",
       " 'help',\n",
       " 'hex',\n",
       " 'id',\n",
       " 'input',\n",
       " 'int',\n",
       " 'isinstance',\n",
       " 'issubclass',\n",
       " 'iter',\n",
       " 'len',\n",
       " 'license',\n",
       " 'list',\n",
       " 'locals',\n",
       " 'map',\n",
       " 'max',\n",
       " 'memoryview',\n",
       " 'min',\n",
       " 'next',\n",
       " 'object',\n",
       " 'oct',\n",
       " 'open',\n",
       " 'ord',\n",
       " 'pow',\n",
       " 'print',\n",
       " 'property',\n",
       " 'range',\n",
       " 'repr',\n",
       " 'reversed',\n",
       " 'round',\n",
       " 'runfile',\n",
       " 'set',\n",
       " 'setattr',\n",
       " 'slice',\n",
       " 'sorted',\n",
       " 'staticmethod',\n",
       " 'str',\n",
       " 'sum',\n",
       " 'super',\n",
       " 'tuple',\n",
       " 'type',\n",
       " 'vars',\n",
       " 'zip']"
      ]
     },
     "execution_count": 29,
     "metadata": {},
     "output_type": "execute_result"
    }
   ],
   "source": [
    "# Check built-in functions\n",
    "dir(__builtins__)"
   ]
  },
  {
   "cell_type": "markdown",
   "metadata": {},
   "source": [
    "### I. map()\n",
    "* Syntax: map(function, iterable)\n",
    "* The map() function applies a give function to each item of an iterabble.\n",
    "* The number of iterables passed to the map() function must match the number of parameters in the function."
   ]
  },
  {
   "cell_type": "code",
   "execution_count": 24,
   "metadata": {},
   "outputs": [
    {
     "name": "stdout",
     "output_type": "stream",
     "text": [
      "[2, 3, 4, 5, 6]\n"
     ]
    }
   ],
   "source": [
    "# Increment every element in the list by 1\n",
    "myList = [1, 2 ,3 ,4, 5]\n",
    "\n",
    "result = []\n",
    "def add_one(n):\n",
    "    return n + 1\n",
    "\n",
    "result = list(map(add_one, myList))\n",
    "\n",
    "print(result)"
   ]
  },
  {
   "cell_type": "code",
   "execution_count": 28,
   "metadata": {},
   "outputs": [
    {
     "name": "stdout",
     "output_type": "stream",
     "text": [
      "(3, -6, 100, 26)\n"
     ]
    }
   ],
   "source": [
    "# exercise\n",
    "# Use the map() functiom to convert float numbers into integers by rounding to the nearest integer.\n",
    "# Output the integer values by converting the float values stroed in the tuple using round function.\n",
    "\n",
    "f = (3.14, -5.625, 100.4, 25.8)\n",
    "\n",
    "result = tuple(map(round, f))\n",
    "print(result)"
   ]
  },
  {
   "cell_type": "markdown",
   "metadata": {},
   "source": [
    "### II. zip()\n",
    "* Syntax: zip(*iterables)\n",
    "* Parameters: two or more iterables to be aggregated.\n",
    "* Definition: the zip() function takes two or more iterables and aggreagtes them into a single iterator of tuples.\n",
    "    * It combines the corresponding elements of multiple iterables into tuples. \n",
    "    * If the input iterables have different lenghts, zip() stops creating tuples when the shortest iterable is exhuasted."
   ]
  },
  {
   "cell_type": "code",
   "execution_count": 29,
   "metadata": {},
   "outputs": [
    {
     "name": "stdout",
     "output_type": "stream",
     "text": [
      "[(52, 19, 0), (255, 63, 68), (39, 227, 255), (132, 197, 187)]\n"
     ]
    }
   ],
   "source": [
    "# rgb combination\n",
    "\n",
    "r = (52, 255, 39, 132)\n",
    "g = (19, 63, 227, 197)\n",
    "b = (0, 68, 255, 187)\n",
    "\n",
    "img = list(zip(r, g, b))\n",
    "print(img)"
   ]
  },
  {
   "cell_type": "markdown",
   "metadata": {},
   "source": [
    "### III. enumerate()\n",
    "* Syntax: enumerate(iterable, start=0)\n",
    "* Parameters: an interable and the staring index (set to 0 by default)\n",
    "* Definition: The enumerate() function adds a counter to an iterable and returns it in the form of an enumerate object, which is an iterator of tuples.\n",
    "    * Each tuple contains the index and the corresponding item from the itrerable."
   ]
  },
  {
   "cell_type": "code",
   "execution_count": 32,
   "metadata": {},
   "outputs": [
    {
     "name": "stdout",
     "output_type": "stream",
     "text": [
      "{1: 'apple', 2: 'orange', 3: 'banana', 4: 'mango'}\n"
     ]
    }
   ],
   "source": [
    "# fruits and their corresponding tags\n",
    "f = (\"apple\", \"orange\", \"banana\", \"mango\")\n",
    "\n",
    "tags = {}\n",
    "for i, fruit in enumerate(f, start = 1):\n",
    "    tags[i] = fruit\n",
    "\n",
    "# Alternatively\n",
    "# tag = dict(enumerate(f, 1))\n",
    "\n",
    "print(tags)"
   ]
  },
  {
   "cell_type": "markdown",
   "metadata": {},
   "source": [
    "### IV. filter()\n",
    "* Syntax: filter(function, iterable)\n",
    "* Paramter:\n",
    "    * function: A function that tests whether each element of the iterable should be included in the reuslt.\n",
    "    * iterable: The iterable whose elements will be filtered.\n",
    "* Definition: The filter() function constructs an iterator from elements of an iterable for which a function returns True.\n",
    "    * It allows users to filter out elements from an iterable based on a condition provided by a function."
   ]
  },
  {
   "cell_type": "code",
   "execution_count": 36,
   "metadata": {},
   "outputs": [
    {
     "name": "stdout",
     "output_type": "stream",
     "text": [
      "[8, 7, 9]\n"
     ]
    }
   ],
   "source": [
    "def f(x):\n",
    "    return x > 5 and x < 10\n",
    "\n",
    "a = [8, 3, 2 ,10, 15, 7, 1, 9, 0, 11]\n",
    "\n",
    "result = list(filter(f, a))\n",
    "print(result)"
   ]
  },
  {
   "cell_type": "markdown",
   "metadata": {},
   "source": [
    "### V. sorted()\n",
    "* Definition: aThe sorted() function returns a new list that contains the sorted elements from the provided iterable object.\n",
    "* Syntax: sorted(iterable, key=None, reverse=False)\n",
    "* Parameters:\n",
    "    * iterable: The iterable object to be sorted.\n",
    "    * key (optional): A function determines the value to be used for sorting the elements of the iterable.\n",
    "        * default value is None\n",
    "    * reverse (optional): An argument that determines whether the iterable will be sorted in ascending order or descending order.\n",
    "        * default value is False (ascending order)"
   ]
  },
  {
   "cell_type": "code",
   "execution_count": 59,
   "metadata": {},
   "outputs": [
    {
     "name": "stdout",
     "output_type": "stream",
     "text": [
      "[5, 2, 8, 1, 4]\n",
      "[1, 2, 4, 5, 8]\n"
     ]
    }
   ],
   "source": [
    "nums = [5, 2, 8, 1, 4]\n",
    "print(nums)\n",
    "print(sorted(nums))"
   ]
  },
  {
   "cell_type": "code",
   "execution_count": 62,
   "metadata": {},
   "outputs": [
    {
     "name": "stdout",
     "output_type": "stream",
     "text": [
      "['banana', 'watermelon', 'clementine', 'apple']\n",
      "['apple', 'banana', 'watermelon', 'clementine']\n"
     ]
    }
   ],
   "source": [
    "fruits = [\"banana\", \"watermelon\", \"clementine\", \"apple\"]\n",
    "len_sorted_fruits = sorted(fruits, key=len)\n",
    "print(fruits)\n",
    "print(len_sorted_fruits)"
   ]
  },
  {
   "cell_type": "code",
   "execution_count": 64,
   "metadata": {},
   "outputs": [
    {
     "name": "stdout",
     "output_type": "stream",
     "text": [
      "[5, 2, 8, 1, 4]\n",
      "[8, 5, 4, 2, 1]\n"
     ]
    }
   ],
   "source": [
    "nums = [5, 2, 8, 1, 4]\n",
    "reverse_nums = sorted(nums, reverse = True)\n",
    "print(nums)\n",
    "print(reverse_nums)"
   ]
  },
  {
   "cell_type": "markdown",
   "metadata": {},
   "source": [
    "## B. User-Defined Functions\n",
    "* Users can create functions using the def keyword.\n"
   ]
  },
  {
   "cell_type": "code",
   "execution_count": null,
   "metadata": {},
   "outputs": [],
   "source": [
    "# User-defined function pseudocode\n",
    "\n",
    "\"\"\"\n",
    "def {function_name}({parameter(s)})\n",
    "\n",
    "    statements/operations\n",
    "    \n",
    "    return {return value}\n",
    "\"\"\""
   ]
  },
  {
   "cell_type": "code",
   "execution_count": 32,
   "metadata": {},
   "outputs": [
    {
     "name": "stdout",
     "output_type": "stream",
     "text": [
      "Hi\n"
     ]
    }
   ],
   "source": [
    "### Function that takes no parameter(s) and doesn't have a return value.\n",
    "\n",
    "def hi():\n",
    "    print(\"Hi\")\n",
    "\n",
    "hi()"
   ]
  },
  {
   "cell_type": "code",
   "execution_count": 33,
   "metadata": {},
   "outputs": [
    {
     "name": "stdout",
     "output_type": "stream",
     "text": [
      "Microsoft\n",
      "Copilot\n"
     ]
    }
   ],
   "source": [
    "### Function with parameters\n",
    "\n",
    "def shout(name):\n",
    "    print(name)\n",
    "\n",
    "shout(\"Microsoft\")\n",
    "shout(\"Copilot\")"
   ]
  },
  {
   "cell_type": "code",
   "execution_count": 34,
   "metadata": {},
   "outputs": [
    {
     "name": "stdout",
     "output_type": "stream",
     "text": [
      "7\n"
     ]
    }
   ],
   "source": [
    "def add(a, b):\n",
    "    return a + b\n",
    "\n",
    "print(add(3, 4))"
   ]
  },
  {
   "cell_type": "code",
   "execution_count": 38,
   "metadata": {},
   "outputs": [
    {
     "name": "stdout",
     "output_type": "stream",
     "text": [
      "3\n",
      "100\n",
      "50\n",
      "12\n"
     ]
    }
   ],
   "source": [
    "# Create a function that returns the highest value\n",
    "\n",
    "def num_max(a, b, c):\n",
    "    nums = [b, c]\n",
    "    maximum = a\n",
    "    for num in nums:\n",
    "        if num > maximum:\n",
    "            maximum = num\n",
    "\n",
    "    return maximum\n",
    "\n",
    "print(num_max(1, 2, 3))\n",
    "print(num_max(5, 100, 2))\n",
    "print(num_max(44, 50, 50))\n",
    "print(num_max(10, 12, 7))"
   ]
  },
  {
   "cell_type": "code",
   "execution_count": 40,
   "metadata": {},
   "outputs": [
    {
     "name": "stdout",
     "output_type": "stream",
     "text": [
      "24\n"
     ]
    }
   ],
   "source": [
    "def num_min(array):\n",
    "    minimum = array[0]\n",
    "    for num in array:\n",
    "        if num < minimum:\n",
    "            minimum = num\n",
    "    \n",
    "    return minimum\n",
    "\n",
    "testarray = [52, 273, 32, 103, 275, 24, 57]\n",
    "print(num_min(testarray))\n"
   ]
  },
  {
   "cell_type": "code",
   "execution_count": 41,
   "metadata": {},
   "outputs": [
    {
     "name": "stdout",
     "output_type": "stream",
     "text": [
      "2\n",
      "10\n",
      "12\n"
     ]
    }
   ],
   "source": [
    "# Challenge \n",
    "# Print only even number from a given list array.\n",
    "\n",
    "def print_even(my_list):\n",
    "    list_even = []\n",
    "    for num in my_list:\n",
    "        if num % 2 == 0:\n",
    "            list_even.append(num)\n",
    "\n",
    "    for num in list_even:\n",
    "        print(num)\n",
    "\n",
    "print_even([1, 3, 2, 10, 12, 11, 15])"
   ]
  },
  {
   "cell_type": "code",
   "execution_count": 44,
   "metadata": {},
   "outputs": [
    {
     "name": "stdout",
     "output_type": "stream",
     "text": [
      "False\n",
      "False\n",
      "True\n",
      "False\n"
     ]
    }
   ],
   "source": [
    "# Exercise\n",
    "# Leap Year Identification\n",
    "# A year is considered a leap year if it is divisible by 4. \n",
    "# However, years that are divisible by 100 are not leap years unless they are also divisible by 400.\n",
    "\n",
    "def isLeapYear(year):\n",
    "\n",
    "    # Check if the year is divisible by 4\n",
    "    if year % 4 == 0:\n",
    "\n",
    "        # Check if the year is divisible by 100\n",
    "        if year % 100 == 0:\n",
    "\n",
    "            # Check if the year is divisible by 400\n",
    "            if year % 400 == 0:\n",
    "                ## If the year is divisible by 4 and 100 but also divisible by 400, it is a leap year\n",
    "                return True\n",
    "            \n",
    "            # If the year is divisible by 4 and 100 but noy by 400, it is not a leap year.\n",
    "            else:\n",
    "                return False\n",
    "            \n",
    "        # If the year is divisible by 4 and not by 100, it is a leap year\n",
    "        else:\n",
    "            return True\n",
    "    # If the year is not divisible by 4, it is not a leap year.\n",
    "    else:\n",
    "        return False\n",
    "    \n",
    "    \n",
    "print(isLeapYear(2022))\n",
    "print(isLeapYear(2010))\n",
    "print(isLeapYear(2000))\n",
    "print(isLeapYear(1990))\n",
    "    "
   ]
  },
  {
   "cell_type": "code",
   "execution_count": 46,
   "metadata": {},
   "outputs": [
    {
     "name": "stdout",
     "output_type": "stream",
     "text": [
      "False\n",
      "False\n",
      "True\n",
      "False\n"
     ]
    }
   ],
   "source": [
    "# Alternative Solution - Leap Year\n",
    "def isLeapYear(year):\n",
    "    return year % 4 == 0 and year % 100 != 0 or year % 400 == 0\n",
    "\n",
    "print(isLeapYear(2022))\n",
    "print(isLeapYear(2010))\n",
    "print(isLeapYear(2000))\n",
    "print(isLeapYear(1990))"
   ]
  },
  {
   "cell_type": "markdown",
   "metadata": {},
   "source": [
    "### *args"
   ]
  },
  {
   "cell_type": "code",
   "execution_count": 47,
   "metadata": {},
   "outputs": [
    {
     "name": "stdout",
     "output_type": "stream",
     "text": [
      "5\n",
      "55\n"
     ]
    }
   ],
   "source": [
    "# A funciton that takes as many parameters as user inputs\n",
    "# Use *args as an argument\n",
    "\n",
    "def add_many(*args):\n",
    "    result = 0\n",
    "    for i in args:\n",
    "        result += i\n",
    "    return result\n",
    "\n",
    "print(add_many(2, 3))\n",
    "\n",
    "print(add_many(1, 2, 3, 4, 5, 6, 7, 8, 9, 10))"
   ]
  },
  {
   "cell_type": "code",
   "execution_count": 48,
   "metadata": {},
   "outputs": [
    {
     "name": "stdout",
     "output_type": "stream",
     "text": [
      "15\n",
      "6\n"
     ]
    }
   ],
   "source": [
    "def add_mul(operation, *args):\n",
    "    if operation == \"add\":\n",
    "        result = 0\n",
    "        for num in args:\n",
    "            result += num\n",
    "    elif operation == \"mul\":\n",
    "        result = 1\n",
    "        for num in args:\n",
    "            result *= num\n",
    "    return result\n",
    "\n",
    "\n",
    "print(add_mul(\"add\", 1,2, 3, 4, 5))\n",
    "print(add_mul(\"mul\", 1, 2, 3))"
   ]
  },
  {
   "cell_type": "code",
   "execution_count": 49,
   "metadata": {},
   "outputs": [
    {
     "name": "stdout",
     "output_type": "stream",
     "text": [
      "(7, 12)\n"
     ]
    }
   ],
   "source": [
    "def add_and_mul(a, b):\n",
    "    return a + b, a * b\n",
    "\n",
    "print(add_and_mul(3, 4))"
   ]
  },
  {
   "cell_type": "code",
   "execution_count": 51,
   "metadata": {},
   "outputs": [
    {
     "name": "stdout",
     "output_type": "stream",
     "text": [
      "(13, 7, 30, 3)\n"
     ]
    }
   ],
   "source": [
    "# addition, subtraction, multiplication, and division\n",
    "# Calculate the sum, difference, product, and quotient of the two integers a and b.\n",
    "\n",
    "def func(a, b):\n",
    "    return a + b, a - b, a * b, a // b\n",
    "\n",
    "\n",
    "print(func(10, 3))"
   ]
  },
  {
   "cell_type": "code",
   "execution_count": 3,
   "metadata": {},
   "outputs": [
    {
     "name": "stdout",
     "output_type": "stream",
     "text": [
      "10 10 30 Hello 35\n"
     ]
    }
   ],
   "source": [
    "# Recap exercise 1\n",
    "\n",
    "a = b = 10\n",
    "c, d = 30, \"Hello\"\n",
    "e = 35\n",
    "\n",
    "print(a, b, c, d, e)"
   ]
  },
  {
   "cell_type": "code",
   "execution_count": 10,
   "metadata": {},
   "outputs": [
    {
     "name": "stdout",
     "output_type": "stream",
     "text": [
      "['Doctor Strange', 'Split', 'Lucky', 'Batman']\n",
      "['Doctor Strange', 'Superman', 'Split', 'Lucky', 'Batman']\n",
      "['Doctor Strange', 'Superman', 'Split', 'Batman']\n",
      "['Doctor Strange', 'Superman']\n"
     ]
    }
   ],
   "source": [
    "# Recap exercise 2\n",
    "movie_rank = [\"Doctor Strange\", \"Split\", \"Lucky\"]\n",
    "\n",
    "movie_rank.append(\"Batman\")\n",
    "print(movie_rank)\n",
    "\n",
    "\n",
    "movie_rank.insert(movie_rank.index(\"Split\"), \"Superman\")\n",
    "print(movie_rank)\n",
    "\n",
    "movie_rank.remove(\"Lucky\")\n",
    "print(movie_rank)\n",
    "\n",
    "movie_rank.remove(\"Split\")\n",
    "movie_rank.remove(\"Batman\")\n",
    "print(movie_rank)"
   ]
  },
  {
   "cell_type": "code",
   "execution_count": 11,
   "metadata": {},
   "outputs": [
    {
     "name": "stdout",
     "output_type": "stream",
     "text": [
      "apple banana cake\n"
     ]
    }
   ],
   "source": [
    "# Recap exercise 3\n",
    "temp = (\"apple\", \"banana\", \"cake\")\n",
    "a, b, c = temp\n",
    "print(a, b, c)"
   ]
  },
  {
   "cell_type": "code",
   "execution_count": 14,
   "metadata": {},
   "outputs": [
    {
     "name": "stdout",
     "output_type": "stream",
     "text": [
      "29\n"
     ]
    }
   ],
   "source": [
    "# Take three inputs at once, separated by space\n",
    "\n",
    "a, b, c = input().split()\n",
    "s = int(a) + int(b) + int(c)\n",
    "\n",
    "print(s)"
   ]
  },
  {
   "cell_type": "code",
   "execution_count": 16,
   "metadata": {},
   "outputs": [
    {
     "name": "stdout",
     "output_type": "stream",
     "text": [
      "<class 'str'> <class 'float'> <class 'int'>\n",
      "name =  John height =  178.5 age =  28\n"
     ]
    }
   ],
   "source": [
    "a, b, c = input().split()\n",
    "b = float(b)\n",
    "c = int(c)\n",
    "\n",
    "print(type(a), type(b), type(c))\n",
    "print(\"name = \", a, \"height = \", b, \"age = \", c)"
   ]
  },
  {
   "cell_type": "code",
   "execution_count": 18,
   "metadata": {},
   "outputs": [
    {
     "name": "stdout",
     "output_type": "stream",
     "text": [
      "50620\n",
      "50620\n"
     ]
    }
   ],
   "source": [
    "# Recap Exercise\n",
    "# Calculate the total savings of five students.\n",
    "# The savings information for each student is stored in the dicitonary.\n",
    "# Write a code to calculate the total amount of savings.\n",
    "\n",
    "d = {\"kim\": 34000, \"lee\": 12000, \"park\": 1200, \"lew\": 0, \"song\": 3420}\n",
    "\n",
    "total = 0\n",
    "for saving in d.values():\n",
    "    total += saving\n",
    "\n",
    "print(total)\n",
    "\n",
    "# Alternatively\n",
    "total_savings = sum(d.values())\n",
    "print(total_savings)"
   ]
  },
  {
   "cell_type": "code",
   "execution_count": 20,
   "metadata": {},
   "outputs": [
    {
     "name": "stdout",
     "output_type": "stream",
     "text": [
      "['a', 'b', 'c', 'd']\n"
     ]
    }
   ],
   "source": [
    "def make_list(string):\n",
    "    return list(string)\n",
    "\n",
    "print(make_list(\"abcd\"))"
   ]
  },
  {
   "cell_type": "code",
   "execution_count": 21,
   "metadata": {},
   "outputs": [
    {
     "name": "stdout",
     "output_type": "stream",
     "text": [
      "1\n"
     ]
    }
   ],
   "source": [
    "a = 1                   # This is a global variable\n",
    "def vartest(a):\n",
    "    a = a + 1           # This is a local variable\n",
    "\n",
    "vartest(a)\n",
    "print(a)"
   ]
  },
  {
   "cell_type": "markdown",
   "metadata": {},
   "source": [
    "## C. Lambda Function"
   ]
  },
  {
   "cell_type": "markdown",
   "metadata": {},
   "source": [
    "* Definition: A lambda function is a small anonymous function defined using the lambda keyword.\n",
    "    * It can have any number of arguments but only one expression.\n",
    "    * The expression is evaluated and returned when the function is called.\n",
    "* Syntax: lambda arguments: expression\n",
    "* Parameters:\n",
    "    * arguments: The parameters the function takes (can be zero or more).\n",
    "    * expression: A single expression whose value is returned by the function."
   ]
  },
  {
   "cell_type": "code",
   "execution_count": 40,
   "metadata": {},
   "outputs": [
    {
     "name": "stdout",
     "output_type": "stream",
     "text": [
      "[2, 3, 4, 5, 6]\n"
     ]
    }
   ],
   "source": [
    "# Add 1 to every element in the list\n",
    "myList = [1, 2, 3, 4, 5]\n",
    "\n",
    "result = list(map(lambda x: x + 1, myList))\n",
    "print(result)"
   ]
  },
  {
   "cell_type": "code",
   "execution_count": 43,
   "metadata": {},
   "outputs": [
    {
     "name": "stdout",
     "output_type": "stream",
     "text": [
      "[1, 4, 9, 16]\n"
     ]
    }
   ],
   "source": [
    "# exercise 1\n",
    "# Use a lambda function in Python to compute the sqaure of each element in the provided list and store the results in a new list\n",
    "\n",
    "numbers = [1, 2, 3, 4]\n",
    "squared = list(map(lambda x: x ** 2, numbers))\n",
    "print(squared)"
   ]
  },
  {
   "cell_type": "code",
   "execution_count": 48,
   "metadata": {},
   "outputs": [
    {
     "name": "stdout",
     "output_type": "stream",
     "text": [
      "[2, 4]\n"
     ]
    }
   ],
   "source": [
    "# exercise 2\n",
    "# Filter out even integers from the given list using lambda function\n",
    "\n",
    "numbers = [1, 2, 3, 4, 5]\n",
    "even_numbers = list(filter(lambda x: x  % 2 == 0, numbers))\n",
    "print(even_numbers)"
   ]
  },
  {
   "cell_type": "code",
   "execution_count": 57,
   "metadata": {},
   "outputs": [
    {
     "name": "stdout",
     "output_type": "stream",
     "text": [
      "[(5, 1), (1, 2), (3, 4)]\n"
     ]
    }
   ],
   "source": [
    "# exercise 3\n",
    "# sort the provided list whose elements are tuples.\n",
    "# Sort them based on the second value of the tuples.\n",
    "\n",
    "points = [(1, 2), (3, 4), (5, 1)]\n",
    "sorted_points = sorted(points, key = lambda x: x[1])\n",
    "print(sorted_points)"
   ]
  }
 ],
 "metadata": {
  "kernelspec": {
   "display_name": "Python 3",
   "language": "python",
   "name": "python3"
  },
  "language_info": {
   "codemirror_mode": {
    "name": "ipython",
    "version": 3
   },
   "file_extension": ".py",
   "mimetype": "text/x-python",
   "name": "python",
   "nbconvert_exporter": "python",
   "pygments_lexer": "ipython3",
   "version": "3.13.1"
  }
 },
 "nbformat": 4,
 "nbformat_minor": 2
}
