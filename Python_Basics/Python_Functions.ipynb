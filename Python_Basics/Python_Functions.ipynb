{
 "cells": [
  {
   "cell_type": "markdown",
   "metadata": {},
   "source": [
    "# Microsoft AI School - Python Functions\n",
    "* Date: 2024/12/23 - Present\n",
    "* Python Version: Python 3.13.1\n",
    "* Notes:"
   ]
  },
  {
   "cell_type": "markdown",
   "metadata": {},
   "source": [
    "# 1. Functions\n",
    "* A Python function is a \"blackbox\" that takes inputs(parameterS) and produces a output(return value)."
   ]
  },
  {
   "cell_type": "markdown",
   "metadata": {},
   "source": [
    "## A. Built-in Functions\n",
    "* Functions that are pre-defined in Python and available for usewithout requireing any additional imports or definitions.\n",
    "* Examples\n",
    "    * print()\n",
    "    * del()\n",
    "    * type()\n",
    "    * input()\n",
    "    * range()\n",
    "    * str()"
   ]
  },
  {
   "cell_type": "code",
   "execution_count": 29,
   "metadata": {},
   "outputs": [
    {
     "data": {
      "text/plain": [
       "['ArithmeticError',\n",
       " 'AssertionError',\n",
       " 'AttributeError',\n",
       " 'BaseException',\n",
       " 'BaseExceptionGroup',\n",
       " 'BlockingIOError',\n",
       " 'BrokenPipeError',\n",
       " 'BufferError',\n",
       " 'BytesWarning',\n",
       " 'ChildProcessError',\n",
       " 'ConnectionAbortedError',\n",
       " 'ConnectionError',\n",
       " 'ConnectionRefusedError',\n",
       " 'ConnectionResetError',\n",
       " 'DeprecationWarning',\n",
       " 'EOFError',\n",
       " 'Ellipsis',\n",
       " 'EncodingWarning',\n",
       " 'EnvironmentError',\n",
       " 'Exception',\n",
       " 'ExceptionGroup',\n",
       " 'False',\n",
       " 'FileExistsError',\n",
       " 'FileNotFoundError',\n",
       " 'FloatingPointError',\n",
       " 'FutureWarning',\n",
       " 'GeneratorExit',\n",
       " 'IOError',\n",
       " 'ImportError',\n",
       " 'ImportWarning',\n",
       " 'IndentationError',\n",
       " 'IndexError',\n",
       " 'InterruptedError',\n",
       " 'IsADirectoryError',\n",
       " 'KeyError',\n",
       " 'KeyboardInterrupt',\n",
       " 'LookupError',\n",
       " 'MemoryError',\n",
       " 'ModuleNotFoundError',\n",
       " 'NameError',\n",
       " 'None',\n",
       " 'NotADirectoryError',\n",
       " 'NotImplemented',\n",
       " 'NotImplementedError',\n",
       " 'OSError',\n",
       " 'OverflowError',\n",
       " 'PendingDeprecationWarning',\n",
       " 'PermissionError',\n",
       " 'ProcessLookupError',\n",
       " 'PythonFinalizationError',\n",
       " 'RecursionError',\n",
       " 'ReferenceError',\n",
       " 'ResourceWarning',\n",
       " 'RuntimeError',\n",
       " 'RuntimeWarning',\n",
       " 'StopAsyncIteration',\n",
       " 'StopIteration',\n",
       " 'SyntaxError',\n",
       " 'SyntaxWarning',\n",
       " 'SystemError',\n",
       " 'SystemExit',\n",
       " 'TabError',\n",
       " 'TimeoutError',\n",
       " 'True',\n",
       " 'TypeError',\n",
       " 'UnboundLocalError',\n",
       " 'UnicodeDecodeError',\n",
       " 'UnicodeEncodeError',\n",
       " 'UnicodeError',\n",
       " 'UnicodeTranslateError',\n",
       " 'UnicodeWarning',\n",
       " 'UserWarning',\n",
       " 'ValueError',\n",
       " 'Warning',\n",
       " 'WindowsError',\n",
       " 'ZeroDivisionError',\n",
       " '_IncompleteInputError',\n",
       " '__IPYTHON__',\n",
       " '__build_class__',\n",
       " '__debug__',\n",
       " '__doc__',\n",
       " '__import__',\n",
       " '__loader__',\n",
       " '__name__',\n",
       " '__package__',\n",
       " '__spec__',\n",
       " 'abs',\n",
       " 'aiter',\n",
       " 'all',\n",
       " 'anext',\n",
       " 'any',\n",
       " 'ascii',\n",
       " 'bin',\n",
       " 'bool',\n",
       " 'breakpoint',\n",
       " 'bytearray',\n",
       " 'bytes',\n",
       " 'callable',\n",
       " 'chr',\n",
       " 'classmethod',\n",
       " 'compile',\n",
       " 'complex',\n",
       " 'copyright',\n",
       " 'credits',\n",
       " 'delattr',\n",
       " 'dict',\n",
       " 'dir',\n",
       " 'display',\n",
       " 'divmod',\n",
       " 'enumerate',\n",
       " 'eval',\n",
       " 'exec',\n",
       " 'execfile',\n",
       " 'filter',\n",
       " 'float',\n",
       " 'format',\n",
       " 'frozenset',\n",
       " 'get_ipython',\n",
       " 'getattr',\n",
       " 'globals',\n",
       " 'hasattr',\n",
       " 'hash',\n",
       " 'help',\n",
       " 'hex',\n",
       " 'id',\n",
       " 'input',\n",
       " 'int',\n",
       " 'isinstance',\n",
       " 'issubclass',\n",
       " 'iter',\n",
       " 'len',\n",
       " 'license',\n",
       " 'list',\n",
       " 'locals',\n",
       " 'map',\n",
       " 'max',\n",
       " 'memoryview',\n",
       " 'min',\n",
       " 'next',\n",
       " 'object',\n",
       " 'oct',\n",
       " 'open',\n",
       " 'ord',\n",
       " 'pow',\n",
       " 'print',\n",
       " 'property',\n",
       " 'range',\n",
       " 'repr',\n",
       " 'reversed',\n",
       " 'round',\n",
       " 'runfile',\n",
       " 'set',\n",
       " 'setattr',\n",
       " 'slice',\n",
       " 'sorted',\n",
       " 'staticmethod',\n",
       " 'str',\n",
       " 'sum',\n",
       " 'super',\n",
       " 'tuple',\n",
       " 'type',\n",
       " 'vars',\n",
       " 'zip']"
      ]
     },
     "execution_count": 29,
     "metadata": {},
     "output_type": "execute_result"
    }
   ],
   "source": [
    "# Check built-in functions\n",
    "dir(__builtins__)"
   ]
  },
  {
   "cell_type": "markdown",
   "metadata": {},
   "source": [
    "## B. User-Defined Functions\n",
    "* Users can create functions using the def keyword.\n"
   ]
  },
  {
   "cell_type": "code",
   "execution_count": null,
   "metadata": {},
   "outputs": [],
   "source": [
    "# User-defined function pseudocode\n",
    "\n",
    "\"\"\"\n",
    "def {function_name}({parameter(s)})\n",
    "\n",
    "    statements/operations\n",
    "    \n",
    "    return {return value}\n",
    "\"\"\""
   ]
  },
  {
   "cell_type": "code",
   "execution_count": 32,
   "metadata": {},
   "outputs": [
    {
     "name": "stdout",
     "output_type": "stream",
     "text": [
      "Hi\n"
     ]
    }
   ],
   "source": [
    "### Function that takes no parameter(s) and doesn't have a return value.\n",
    "\n",
    "def hi():\n",
    "    print(\"Hi\")\n",
    "\n",
    "hi()"
   ]
  },
  {
   "cell_type": "code",
   "execution_count": 33,
   "metadata": {},
   "outputs": [
    {
     "name": "stdout",
     "output_type": "stream",
     "text": [
      "Microsoft\n",
      "Copilot\n"
     ]
    }
   ],
   "source": [
    "### Function with parameters\n",
    "\n",
    "def shout(name):\n",
    "    print(name)\n",
    "\n",
    "shout(\"Microsoft\")\n",
    "shout(\"Copilot\")"
   ]
  },
  {
   "cell_type": "code",
   "execution_count": 34,
   "metadata": {},
   "outputs": [
    {
     "name": "stdout",
     "output_type": "stream",
     "text": [
      "7\n"
     ]
    }
   ],
   "source": [
    "def add(a, b):\n",
    "    return a + b\n",
    "\n",
    "print(add(3, 4))"
   ]
  },
  {
   "cell_type": "code",
   "execution_count": 38,
   "metadata": {},
   "outputs": [
    {
     "name": "stdout",
     "output_type": "stream",
     "text": [
      "3\n",
      "100\n",
      "50\n",
      "12\n"
     ]
    }
   ],
   "source": [
    "# Create a function that returns the highest value\n",
    "\n",
    "def num_max(a, b, c):\n",
    "    nums = [b, c]\n",
    "    maximum = a\n",
    "    for num in nums:\n",
    "        if num > maximum:\n",
    "            maximum = num\n",
    "\n",
    "    return maximum\n",
    "\n",
    "print(num_max(1, 2, 3))\n",
    "print(num_max(5, 100, 2))\n",
    "print(num_max(44, 50, 50))\n",
    "print(num_max(10, 12, 7))"
   ]
  },
  {
   "cell_type": "code",
   "execution_count": 40,
   "metadata": {},
   "outputs": [
    {
     "name": "stdout",
     "output_type": "stream",
     "text": [
      "24\n"
     ]
    }
   ],
   "source": [
    "def num_min(array):\n",
    "    minimum = array[0]\n",
    "    for num in array:\n",
    "        if num < minimum:\n",
    "            minimum = num\n",
    "    \n",
    "    return minimum\n",
    "\n",
    "testarray = [52, 273, 32, 103, 275, 24, 57]\n",
    "print(num_min(testarray))\n"
   ]
  },
  {
   "cell_type": "code",
   "execution_count": 41,
   "metadata": {},
   "outputs": [
    {
     "name": "stdout",
     "output_type": "stream",
     "text": [
      "2\n",
      "10\n",
      "12\n"
     ]
    }
   ],
   "source": [
    "# Challenge \n",
    "# Print only even number from a given list array.\n",
    "\n",
    "def print_even(my_list):\n",
    "    list_even = []\n",
    "    for num in my_list:\n",
    "        if num % 2 == 0:\n",
    "            list_even.append(num)\n",
    "\n",
    "    for num in list_even:\n",
    "        print(num)\n",
    "\n",
    "print_even([1, 3, 2, 10, 12, 11, 15])"
   ]
  },
  {
   "cell_type": "code",
   "execution_count": 44,
   "metadata": {},
   "outputs": [
    {
     "name": "stdout",
     "output_type": "stream",
     "text": [
      "False\n",
      "False\n",
      "True\n",
      "False\n"
     ]
    }
   ],
   "source": [
    "# Exercise\n",
    "# Leap Year Identification\n",
    "# A year is considered a leap year if it is divisible by 4. \n",
    "# However, years that are divisible by 100 are not leap years unless they are also divisible by 400.\n",
    "\n",
    "def isLeapYear(year):\n",
    "\n",
    "    # Check if the year is divisible by 4\n",
    "    if year % 4 == 0:\n",
    "\n",
    "        # Check if the year is divisible by 100\n",
    "        if year % 100 == 0:\n",
    "\n",
    "            # Check if the year is divisible by 400\n",
    "            if year % 400 == 0:\n",
    "                ## If the year is divisible by 4 and 100 but also divisible by 400, it is a leap year\n",
    "                return True\n",
    "            \n",
    "            # If the year is divisible by 4 and 100 but noy by 400, it is not a leap year.\n",
    "            else:\n",
    "                return False\n",
    "            \n",
    "        # If the year is divisible by 4 and not by 100, it is a leap year\n",
    "        else:\n",
    "            return True\n",
    "    # If the year is not divisible by 4, it is not a leap year.\n",
    "    else:\n",
    "        return False\n",
    "    \n",
    "    \n",
    "print(isLeapYear(2022))\n",
    "print(isLeapYear(2010))\n",
    "print(isLeapYear(2000))\n",
    "print(isLeapYear(1990))\n",
    "    "
   ]
  },
  {
   "cell_type": "code",
   "execution_count": 46,
   "metadata": {},
   "outputs": [
    {
     "name": "stdout",
     "output_type": "stream",
     "text": [
      "False\n",
      "False\n",
      "True\n",
      "False\n"
     ]
    }
   ],
   "source": [
    "# Alternative Solution - Leap Year\n",
    "def isLeapYear(year):\n",
    "    return year % 4 == 0 and year % 100 != 0 or year % 400 == 0\n",
    "\n",
    "print(isLeapYear(2022))\n",
    "print(isLeapYear(2010))\n",
    "print(isLeapYear(2000))\n",
    "print(isLeapYear(1990))"
   ]
  },
  {
   "cell_type": "markdown",
   "metadata": {},
   "source": [
    "### *args"
   ]
  },
  {
   "cell_type": "code",
   "execution_count": 47,
   "metadata": {},
   "outputs": [
    {
     "name": "stdout",
     "output_type": "stream",
     "text": [
      "5\n",
      "55\n"
     ]
    }
   ],
   "source": [
    "# A funciton that takes as many parameters as user inputs\n",
    "# Use *args as an argument\n",
    "\n",
    "def add_many(*args):\n",
    "    result = 0\n",
    "    for i in args:\n",
    "        result += i\n",
    "    return result\n",
    "\n",
    "print(add_many(2, 3))\n",
    "\n",
    "print(add_many(1, 2, 3, 4, 5, 6, 7, 8, 9, 10))"
   ]
  },
  {
   "cell_type": "code",
   "execution_count": 48,
   "metadata": {},
   "outputs": [
    {
     "name": "stdout",
     "output_type": "stream",
     "text": [
      "15\n",
      "6\n"
     ]
    }
   ],
   "source": [
    "def add_mul(operation, *args):\n",
    "    if operation == \"add\":\n",
    "        result = 0\n",
    "        for num in args:\n",
    "            result += num\n",
    "    elif operation == \"mul\":\n",
    "        result = 1\n",
    "        for num in args:\n",
    "            result *= num\n",
    "    return result\n",
    "\n",
    "\n",
    "print(add_mul(\"add\", 1,2, 3, 4, 5))\n",
    "print(add_mul(\"mul\", 1, 2, 3))"
   ]
  },
  {
   "cell_type": "code",
   "execution_count": 49,
   "metadata": {},
   "outputs": [
    {
     "name": "stdout",
     "output_type": "stream",
     "text": [
      "(7, 12)\n"
     ]
    }
   ],
   "source": [
    "def add_and_mul(a, b):\n",
    "    return a + b, a * b\n",
    "\n",
    "print(add_and_mul(3, 4))"
   ]
  },
  {
   "cell_type": "code",
   "execution_count": 51,
   "metadata": {},
   "outputs": [
    {
     "name": "stdout",
     "output_type": "stream",
     "text": [
      "(13, 7, 30, 3)\n"
     ]
    }
   ],
   "source": [
    "# addition, subtraction, multiplication, and division\n",
    "# Calculate the sum, difference, product, and quotient of the two integers a and b.\n",
    "\n",
    "def func(a, b):\n",
    "    return a + b, a - b, a * b, a // b\n",
    "\n",
    "\n",
    "print(func(10, 3))"
   ]
  }
 ],
 "metadata": {
  "kernelspec": {
   "display_name": "Python 3",
   "language": "python",
   "name": "python3"
  },
  "language_info": {
   "codemirror_mode": {
    "name": "ipython",
    "version": 3
   },
   "file_extension": ".py",
   "mimetype": "text/x-python",
   "name": "python",
   "nbconvert_exporter": "python",
   "pygments_lexer": "ipython3",
   "version": "3.13.1"
  }
 },
 "nbformat": 4,
 "nbformat_minor": 2
}
