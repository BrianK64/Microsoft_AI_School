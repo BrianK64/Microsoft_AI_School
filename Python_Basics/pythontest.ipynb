{
 "cells": [
  {
   "cell_type": "markdown",
   "metadata": {},
   "source": [
    "# Microsoft AI School - 2024/12/19 - 2024/12/20"
   ]
  },
  {
   "cell_type": "markdown",
   "metadata": {},
   "source": [
    "## 1. Basic Python Syntax"
   ]
  },
  {
   "cell_type": "code",
   "execution_count": 4,
   "metadata": {},
   "outputs": [
    {
     "data": {
      "text/plain": [
       "[['H', 'e', 'l', 'l', 'o', ' ', 'P', 'y', 't', 'h', 'o', 'n'],\n",
       " ['e', 'e', ' ', ' ', ' ', ' ', ' ', ' ', ' ', ' ', ' ', ' '],\n",
       " ['l', ' ', 'l', ' ', ' ', ' ', ' ', ' ', ' ', ' ', ' ', ' '],\n",
       " ['l', ' ', ' ', 'l', ' ', ' ', ' ', ' ', ' ', ' ', ' ', ' '],\n",
       " ['o', ' ', ' ', ' ', 'o', ' ', ' ', ' ', ' ', ' ', ' ', ' '],\n",
       " [' ', ' ', ' ', ' ', ' ', ' ', ' ', ' ', ' ', ' ', ' ', ' '],\n",
       " ['P', ' ', ' ', ' ', ' ', ' ', 'P', ' ', ' ', ' ', ' ', ' '],\n",
       " ['y', ' ', ' ', ' ', ' ', ' ', ' ', 'y', ' ', ' ', ' ', ' '],\n",
       " ['t', ' ', ' ', ' ', ' ', ' ', ' ', ' ', 't', ' ', ' ', ' '],\n",
       " ['h', ' ', ' ', ' ', ' ', ' ', ' ', ' ', ' ', 'h', ' ', ' '],\n",
       " ['o', ' ', ' ', ' ', ' ', ' ', ' ', ' ', ' ', ' ', 'o', ' '],\n",
       " ['n', ' ', ' ', ' ', ' ', ' ', ' ', ' ', ' ', ' ', ' ', 'n']]"
      ]
     },
     "execution_count": 4,
     "metadata": {},
     "output_type": "execute_result"
    }
   ],
   "source": [
    "# Horizonal, vertical, and diagonal text pattern generation\n",
    "text = \"Hello Python\"\n",
    "board = [[' ' for i in range(len(text))] for i in range(len(text))]\n",
    "\n",
    "# Horizontal Projection\n",
    "for i, char in enumerate(text):\n",
    "    board[0][i] = char\n",
    "\n",
    "# Vertical Projection\n",
    "for i, char in enumerate(text):\n",
    "    board[i][0] = char\n",
    "\n",
    "# Diagonal Projection\n",
    "for i, char in enumerate(text):\n",
    "    board[i][i] = char\n",
    "\n",
    "board"
   ]
  },
  {
   "cell_type": "markdown",
   "metadata": {},
   "source": [
    "### A. Print() Statements"
   ]
  },
  {
   "cell_type": "markdown",
   "metadata": {},
   "source": [
    "#### Strings"
   ]
  },
  {
   "cell_type": "code",
   "execution_count": 5,
   "metadata": {},
   "outputs": [
    {
     "name": "stdout",
     "output_type": "stream",
     "text": [
      "Hello World1\n",
      "Hello World2\n",
      "Hello World3\n"
     ]
    }
   ],
   "source": [
    "# single or double quotation both work for printing string(text)\n",
    "print(\"Hello World1\")\n",
    "print('Hello World2')\n",
    "print(\"Hello World3\")"
   ]
  },
  {
   "cell_type": "code",
   "execution_count": 6,
   "metadata": {},
   "outputs": [
    {
     "data": {
      "text/plain": [
       "'Hello World3'"
      ]
     },
     "execution_count": 6,
     "metadata": {},
     "output_type": "execute_result"
    }
   ],
   "source": [
    "# Jupyter Notebook prints onlt the last outputable line\n",
    "\"Hello World1\"\n",
    "\"Hello World2\"\n",
    "\"Hello World3\""
   ]
  },
  {
   "cell_type": "markdown",
   "metadata": {},
   "source": [
    "##### Errors"
   ]
  },
  {
   "cell_type": "code",
   "execution_count": 15,
   "metadata": {},
   "outputs": [
    {
     "ename": "SyntaxError",
     "evalue": "unterminated string literal (detected at line 2) (1425046833.py, line 2)",
     "output_type": "error",
     "traceback": [
      "\u001b[1;36m  Cell \u001b[1;32mIn[15], line 2\u001b[1;36m\u001b[0m\n\u001b[1;33m    print(\"Hello World)\u001b[0m\n\u001b[1;37m          ^\u001b[0m\n\u001b[1;31mSyntaxError\u001b[0m\u001b[1;31m:\u001b[0m unterminated string literal (detected at line 2)\n"
     ]
    }
   ],
   "source": [
    "# When printing a string, text has to be wrapped in a complete quotation pair\n",
    "print(\"Hello World)"
   ]
  },
  {
   "cell_type": "code",
   "execution_count": 7,
   "metadata": {},
   "outputs": [
    {
     "ename": "SyntaxError",
     "evalue": "invalid syntax (2160090189.py, line 4)",
     "output_type": "error",
     "traceback": [
      "\u001b[1;36m  Cell \u001b[1;32mIn[7], line 4\u001b[1;36m\u001b[0m\n\u001b[1;33m    Hello World1\u001b[0m\n\u001b[1;37m          ^\u001b[0m\n\u001b[1;31mSyntaxError\u001b[0m\u001b[1;31m:\u001b[0m invalid syntax\n"
     ]
    }
   ],
   "source": [
    "#Error without quotation\n",
    "# -  Python doesn't automatically register these as strings\n",
    "\n",
    "Hello World1\n",
    "Hello World2\n",
    "Hello World3"
   ]
  },
  {
   "cell_type": "code",
   "execution_count": 8,
   "metadata": {},
   "outputs": [
    {
     "ename": "NameError",
     "evalue": "name 'Hello' is not defined",
     "output_type": "error",
     "traceback": [
      "\u001b[1;31m---------------------------------------------------------------------------\u001b[0m",
      "\u001b[1;31mNameError\u001b[0m                                 Traceback (most recent call last)",
      "Cell \u001b[1;32mIn[8], line 4\u001b[0m\n\u001b[0;32m      1\u001b[0m \u001b[38;5;66;03m# Error\u001b[39;00m\n\u001b[0;32m      2\u001b[0m \u001b[38;5;66;03m# Python register these as variables but not previously defined\u001b[39;00m\n\u001b[1;32m----> 4\u001b[0m \u001b[43mHello\u001b[49m, World1\n\u001b[0;32m      5\u001b[0m Hello, World2\n\u001b[0;32m      6\u001b[0m Hello, World3\n",
      "\u001b[1;31mNameError\u001b[0m: name 'Hello' is not defined"
     ]
    }
   ],
   "source": [
    "# Error\n",
    "# Python register these as variables but not previously defined\n",
    "\n",
    "Hello, World1\n",
    "Hello, World2\n",
    "Hello, World3"
   ]
  },
  {
   "cell_type": "code",
   "execution_count": 17,
   "metadata": {},
   "outputs": [
    {
     "ename": "IndentationError",
     "evalue": "unexpected indent (3223904546.py, line 5)",
     "output_type": "error",
     "traceback": [
      "\u001b[1;36m  Cell \u001b[1;32mIn[17], line 5\u001b[1;36m\u001b[0m\n\u001b[1;33m    print(\"Hello World2\")\u001b[0m\n\u001b[1;37m    ^\u001b[0m\n\u001b[1;31mIndentationError\u001b[0m\u001b[1;31m:\u001b[0m unexpected indent\n"
     ]
    }
   ],
   "source": [
    "# Indentation Error\n",
    "# Avoid unwanted tabs/spaces\n",
    "\n",
    "print(\"Hello World1\")\n",
    "    print(\"Hello World2\")"
   ]
  },
  {
   "cell_type": "markdown",
   "metadata": {},
   "source": [
    "#### Integers"
   ]
  },
  {
   "cell_type": "code",
   "execution_count": 10,
   "metadata": {},
   "outputs": [
    {
     "name": "stdout",
     "output_type": "stream",
     "text": [
      "1\n",
      "2\n",
      "3\n"
     ]
    }
   ],
   "source": [
    "# These are integers\n",
    "print(1)\n",
    "print(2)\n",
    "print(3)"
   ]
  },
  {
   "cell_type": "code",
   "execution_count": 11,
   "metadata": {},
   "outputs": [
    {
     "name": "stdout",
     "output_type": "stream",
     "text": [
      "1\n",
      "2\n",
      "3\n"
     ]
    }
   ],
   "source": [
    "# Not same as these\n",
    "# These are strings\n",
    "print('1')\n",
    "print(\"2\")\n",
    "print('3')"
   ]
  },
  {
   "cell_type": "code",
   "execution_count": 12,
   "metadata": {},
   "outputs": [
    {
     "name": "stdout",
     "output_type": "stream",
     "text": [
      "3\n",
      "5\n",
      "7\n"
     ]
    }
   ],
   "source": [
    "# Python would print the calculated integer output\n",
    "print(1+2)\n",
    "print(2+3)\n",
    "print(3+4)"
   ]
  },
  {
   "cell_type": "code",
   "execution_count": 14,
   "metadata": {},
   "outputs": [
    {
     "data": {
      "text/plain": [
       "7"
      ]
     },
     "execution_count": 14,
     "metadata": {},
     "output_type": "execute_result"
    }
   ],
   "source": [
    "# Without print statement, Jupyter Notebook prints only the last line\n",
    "1+2\n",
    "2+3\n",
    "3+4"
   ]
  },
  {
   "cell_type": "markdown",
   "metadata": {},
   "source": [
    "#### Dynamic"
   ]
  },
  {
   "cell_type": "code",
   "execution_count": 16,
   "metadata": {},
   "outputs": [
    {
     "name": "stdout",
     "output_type": "stream",
     "text": [
      "John Doe Age =  20\n"
     ]
    }
   ],
   "source": [
    "print(\"John Doe\", \"Age = \", 20)"
   ]
  },
  {
   "cell_type": "code",
   "execution_count": 19,
   "metadata": {},
   "outputs": [
    {
     "name": "stdout",
     "output_type": "stream",
     "text": [
      "Hello\n",
      "Python\n",
      "Nice to meet you\n"
     ]
    }
   ],
   "source": [
    "print(\"Hello\"); print(\"Python\")\n",
    "\n",
    "print(\"Nice \\\n",
    "to meet you\")"
   ]
  },
  {
   "cell_type": "code",
   "execution_count": 20,
   "metadata": {},
   "outputs": [
    {
     "name": "stdout",
     "output_type": "stream",
     "text": [
      "Hello\n",
      "World\n"
     ]
    },
    {
     "data": {
      "text/plain": [
       "(None, None)"
      ]
     },
     "execution_count": 20,
     "metadata": {},
     "output_type": "execute_result"
    }
   ],
   "source": [
    "print(\"Hello\"), print(\"World\")"
   ]
  },
  {
   "cell_type": "code",
   "execution_count": 23,
   "metadata": {},
   "outputs": [
    {
     "name": "stdout",
     "output_type": "stream",
     "text": [
      "Hi*Python\n"
     ]
    }
   ],
   "source": [
    "# Specify sep argument to put a certain character/symbol in between printable objects.\n",
    "print(\"Hi\", \"Python\", sep=\"*\")"
   ]
  },
  {
   "cell_type": "code",
   "execution_count": 22,
   "metadata": {},
   "outputs": [
    {
     "name": "stdout",
     "output_type": "stream",
     "text": [
      "HiPython\n"
     ]
    }
   ],
   "source": [
    "print(\"Hi\", \"Python\", sep='')"
   ]
  },
  {
   "cell_type": "code",
   "execution_count": 25,
   "metadata": {},
   "outputs": [
    {
     "name": "stdout",
     "output_type": "stream",
     "text": [
      "Hi Python\n"
     ]
    }
   ],
   "source": [
    "# print next element in the same line\n",
    "print(\"Hi\", end=' ')\n",
    "print(\"Python\")"
   ]
  },
  {
   "cell_type": "markdown",
   "metadata": {},
   "source": [
    "### B. Data Types and Variables"
   ]
  },
  {
   "cell_type": "code",
   "execution_count": 29,
   "metadata": {},
   "outputs": [
    {
     "name": "stdout",
     "output_type": "stream",
     "text": [
      "Jane Doe age =  25\n"
     ]
    }
   ],
   "source": [
    "name = \"Jane Doe\"\n",
    "age = 25\n",
    "\n",
    "print(name, \"age = \", age)"
   ]
  },
  {
   "cell_type": "markdown",
   "metadata": {},
   "source": [
    "#### I. Variables"
   ]
  },
  {
   "cell_type": "markdown",
   "metadata": {},
   "source": [
    "##### Variable Naming Convention\n",
    "* Variable names can be any combination of English alphabets, number, and underscore\n",
    "* Variable name cannot start with number\n",
    "* Avoid using keywords - already allocated words in Python - when choosing variable names."
   ]
  },
  {
   "cell_type": "code",
   "execution_count": 30,
   "metadata": {},
   "outputs": [
    {
     "data": {
      "text/plain": [
       "['False',\n",
       " 'None',\n",
       " 'True',\n",
       " 'and',\n",
       " 'as',\n",
       " 'assert',\n",
       " 'async',\n",
       " 'await',\n",
       " 'break',\n",
       " 'class',\n",
       " 'continue',\n",
       " 'def',\n",
       " 'del',\n",
       " 'elif',\n",
       " 'else',\n",
       " 'except',\n",
       " 'finally',\n",
       " 'for',\n",
       " 'from',\n",
       " 'global',\n",
       " 'if',\n",
       " 'import',\n",
       " 'in',\n",
       " 'is',\n",
       " 'lambda',\n",
       " 'nonlocal',\n",
       " 'not',\n",
       " 'or',\n",
       " 'pass',\n",
       " 'raise',\n",
       " 'return',\n",
       " 'try',\n",
       " 'while',\n",
       " 'with',\n",
       " 'yield']"
      ]
     },
     "execution_count": 30,
     "metadata": {},
     "output_type": "execute_result"
    }
   ],
   "source": [
    "import keyword\n",
    "keyword.kwlist"
   ]
  },
  {
   "cell_type": "markdown",
   "metadata": {},
   "source": [
    "#### II. Data Types"
   ]
  },
  {
   "cell_type": "code",
   "execution_count": 31,
   "metadata": {},
   "outputs": [
    {
     "data": {
      "text/plain": [
       "str"
      ]
     },
     "execution_count": 31,
     "metadata": {},
     "output_type": "execute_result"
    }
   ],
   "source": [
    "name = \"John Doe\"\n",
    "type(name)"
   ]
  },
  {
   "cell_type": "code",
   "execution_count": 32,
   "metadata": {},
   "outputs": [
    {
     "data": {
      "text/plain": [
       "int"
      ]
     },
     "execution_count": 32,
     "metadata": {},
     "output_type": "execute_result"
    }
   ],
   "source": [
    "age = 20\n",
    "type(age)"
   ]
  },
  {
   "cell_type": "code",
   "execution_count": 33,
   "metadata": {},
   "outputs": [
    {
     "name": "stdout",
     "output_type": "stream",
     "text": [
      "<class 'str'>\n",
      "<class 'int'>\n"
     ]
    }
   ],
   "source": [
    "# Python is dynamically types, meaning users can reassign already defined variables to values of different data types.\n",
    "name = \"Jane Doe\"\n",
    "print(type(name))\n",
    "name = 21\n",
    "print(type(name))"
   ]
  },
  {
   "cell_type": "markdown",
   "metadata": {},
   "source": [
    "##### Type Casting\n",
    "* str()\n",
    "* int()\n",
    "* float()\n",
    "* bool()"
   ]
  },
  {
   "cell_type": "code",
   "execution_count": 34,
   "metadata": {},
   "outputs": [
    {
     "name": "stdout",
     "output_type": "stream",
     "text": [
      "<class 'str'>\n",
      "<class 'bool'>\n"
     ]
    }
   ],
   "source": [
    "print(type(\"True\"))\n",
    "print(type(bool(\"True\")))"
   ]
  },
  {
   "cell_type": "markdown",
   "metadata": {},
   "source": [
    "###### Boolean Facts\n",
    "* If a variable has a meaningful value, it has a boolean value of True\n",
    "* or None is False"
   ]
  },
  {
   "cell_type": "code",
   "execution_count": 39,
   "metadata": {},
   "outputs": [
    {
     "name": "stdout",
     "output_type": "stream",
     "text": [
      "False\n",
      "True\n",
      "True\n",
      "True\n",
      "False\n",
      "False\n",
      "True\n"
     ]
    }
   ],
   "source": [
    "print(bool(0))\n",
    "print(bool(1))\n",
    "print(bool(2))\n",
    "print(bool(\"Hello\"))\n",
    "print(bool(None))\n",
    "print(bool(''))\n",
    "print(bool(' '))"
   ]
  },
  {
   "cell_type": "markdown",
   "metadata": {},
   "source": [
    "### C. Operations"
   ]
  },
  {
   "cell_type": "markdown",
   "metadata": {},
   "source": [
    "#### I. Artihmetic Operators\n",
    "* '+'\n",
    "* '-'\n",
    "* '*'\n",
    "* '/'\n",
    "* '%'\n",
    "* '//'\n",
    "* '**'"
   ]
  },
  {
   "cell_type": "code",
   "execution_count": 41,
   "metadata": {},
   "outputs": [
    {
     "name": "stdout",
     "output_type": "stream",
     "text": [
      "sum = 7      difference = -1        product = 12            division = 0.75                quotient = 0                    remainder = 3\n"
     ]
    }
   ],
   "source": [
    "# Problem 1. \n",
    "a = 3\n",
    "b = 4\n",
    "\n",
    "# Find sum, difference, product, division, quotient, and remainder\n",
    "\n",
    "sum_1 = a + b\n",
    "diff_1 = a - b\n",
    "prod_1 = a * b\n",
    "div_1 = a / b\n",
    "quot_1 = a // b\n",
    "rem_1 = a % b\n",
    "\n",
    "print(f\"sum = {sum_1}\\\n",
    "      difference = {diff_1}\\\n",
    "        product = {prod_1}\\\n",
    "            division = {div_1}\\\n",
    "                quotient = {quot_1}\\\n",
    "                    remainder = {rem_1}\")"
   ]
  },
  {
   "cell_type": "code",
   "execution_count": 55,
   "metadata": {},
   "outputs": [
    {
     "name": "stdout",
     "output_type": "stream",
     "text": [
      "Thousands digit = 1 \n",
      "Hundreds digit = 2 \n",
      "Tens digit = 3 \n",
      "Ones digit = 4\n"
     ]
    }
   ],
   "source": [
    "# Problem 2\n",
    "# Extract the individual digits of a given integer and print them in order\n",
    "\n",
    "n = 1234\n",
    "\n",
    "\n",
    "d1 = n // 1000              # Extracts the thousands digit\n",
    "d2 = (n // 100) % 10        # Extracts the hundreds digit\n",
    "d3 = (n // 10) % 10         # Extracts the tens digit\n",
    "d4 = n % 10                 # Extracts the ones digit\n",
    "\n",
    "print(\"Thousands digit =\", d1,\\\n",
    "      \"\\nHundreds digit =\", d2,\\\n",
    "      \"\\nTens digit =\", d3,\\\n",
    "      \"\\nOnes digit =\", d4)"
   ]
  },
  {
   "cell_type": "code",
   "execution_count": 58,
   "metadata": {},
   "outputs": [
    {
     "name": "stdout",
     "output_type": "stream",
     "text": [
      "Answer =  12345600\n"
     ]
    }
   ],
   "source": [
    "# Problem 2.H1\n",
    "# Round down the amount to the nearest hundred\n",
    "pay = 12345678 \n",
    "\n",
    "ans = (pay // 100) * 100\n",
    "print(\"Answer = \", ans)"
   ]
  },
  {
   "cell_type": "code",
   "execution_count": 48,
   "metadata": {},
   "outputs": [
    {
     "name": "stdout",
     "output_type": "stream",
     "text": [
      "Answer =  4\n"
     ]
    }
   ],
   "source": [
    "# Problem 2.H2\n",
    "# Find the value at the b-th position of the value stored in variable a and stores it in variable c.\n",
    "# Example:\n",
    "# If a is 1234 and b is 1, the value at the first position (which is 4) should be stored in c.\n",
    "# If a is 1234 and b is 4, the value at the fourth position (which is 1) should be stored in c.\n",
    "a = 1234\n",
    "b = 1\n",
    "\n",
    "c = a % 10\n",
    "\n",
    "print(\"Answer = \", c)"
   ]
  },
  {
   "cell_type": "markdown",
   "metadata": {},
   "source": [
    "#### II. Comparison Operators\n",
    "* '=='\n",
    "* '!='\n",
    "* '<'\n",
    "* '>'\n",
    "* '<='\n",
    "* '>='"
   ]
  },
  {
   "cell_type": "code",
   "execution_count": 59,
   "metadata": {},
   "outputs": [
    {
     "name": "stdout",
     "output_type": "stream",
     "text": [
      "1.  False\n"
     ]
    }
   ],
   "source": [
    "# Problem 3.\n",
    "# 1. 5 == 2\n",
    "# 2. \n",
    "# 3. \n",
    "# 4. \n",
    "\n",
    "print(\"1. \", 5 == 2)"
   ]
  },
  {
   "cell_type": "markdown",
   "metadata": {},
   "source": [
    "#### III. Logical Operators\n",
    "* and\n",
    "* or\n",
    "* not"
   ]
  },
  {
   "cell_type": "code",
   "execution_count": 61,
   "metadata": {},
   "outputs": [
    {
     "name": "stdout",
     "output_type": "stream",
     "text": [
      "1.  True\n",
      "2.  True\n",
      "3.  False\n"
     ]
    }
   ],
   "source": [
    "# Problem 4.\n",
    "# 1. (3 < 5) and (3 > 0)\n",
    "# 2. (4 < 7) or (5 > 8)\n",
    "# 3. not(5 < 9)\n",
    "\n",
    "\"\"\"\n",
    "1. True and True -> True\n",
    "2. True or False -> True\n",
    "3. not(True) -> False\n",
    "\"\"\"\n",
    "\n",
    "print(\"1. \", (3 < 5) and (3 > 0))\n",
    "print(\"2. \", (4 < 7) or (5 > 8))\n",
    "print(\"3. \",not(5 < 9))\n"
   ]
  },
  {
   "cell_type": "markdown",
   "metadata": {},
   "source": [
    "### D. More Strings"
   ]
  },
  {
   "cell_type": "markdown",
   "metadata": {},
   "source": [
    "#### I. Single Line String\n",
    "single quotes or double quotes"
   ]
  },
  {
   "cell_type": "code",
   "execution_count": 65,
   "metadata": {},
   "outputs": [
    {
     "data": {
      "text/plain": [
       "'Hello'"
      ]
     },
     "execution_count": 65,
     "metadata": {},
     "output_type": "execute_result"
    }
   ],
   "source": [
    "'Hello'"
   ]
  },
  {
   "cell_type": "code",
   "execution_count": 66,
   "metadata": {},
   "outputs": [
    {
     "data": {
      "text/plain": [
       "'Hello'"
      ]
     },
     "execution_count": 66,
     "metadata": {},
     "output_type": "execute_result"
    }
   ],
   "source": [
    "\"Hello\""
   ]
  },
  {
   "cell_type": "markdown",
   "metadata": {},
   "source": [
    "#### II. Multiline Strings\n",
    "Triple single quotes or triple double quotes"
   ]
  },
  {
   "cell_type": "code",
   "execution_count": 67,
   "metadata": {},
   "outputs": [
    {
     "data": {
      "text/plain": [
       "'Hello'"
      ]
     },
     "execution_count": 67,
     "metadata": {},
     "output_type": "execute_result"
    }
   ],
   "source": [
    "'''Hello'''"
   ]
  },
  {
   "cell_type": "code",
   "execution_count": 68,
   "metadata": {},
   "outputs": [
    {
     "data": {
      "text/plain": [
       "'Hello'"
      ]
     },
     "execution_count": 68,
     "metadata": {},
     "output_type": "execute_result"
    }
   ],
   "source": [
    "\"\"\"Hello\"\"\""
   ]
  },
  {
   "cell_type": "code",
   "execution_count": 69,
   "metadata": {},
   "outputs": [
    {
     "name": "stdout",
     "output_type": "stream",
     "text": [
      "\n",
      "Hello\n",
      "    Hello\n",
      "        Hello\n",
      "    Hello\n",
      "Hello\n",
      "\n"
     ]
    }
   ],
   "source": [
    "multiline = '''\n",
    "Hello\n",
    "    Hello\n",
    "        Hello\n",
    "    Hello\n",
    "Hello\n",
    "'''\n",
    "print(multiline)"
   ]
  },
  {
   "cell_type": "markdown",
   "metadata": {},
   "source": [
    "#### III. Escape Sequence\n",
    "* \\n: new line\n",
    "* \\t: tab\n",
    "* \\\\': single quote inside quotation\n",
    "* \\\\\": double quote inside quotation\n",
    "* \\\\\\\\: backslash insdie quotation"
   ]
  },
  {
   "cell_type": "code",
   "execution_count": 70,
   "metadata": {},
   "outputs": [
    {
     "name": "stdout",
     "output_type": "stream",
     "text": [
      "Hello 'World'\n"
     ]
    }
   ],
   "source": [
    "print(\"Hello \\'World\\'\")\n"
   ]
  },
  {
   "cell_type": "code",
   "execution_count": 71,
   "metadata": {},
   "outputs": [
    {
     "name": "stdout",
     "output_type": "stream",
     "text": [
      "Hello \n",
      "World\n"
     ]
    }
   ],
   "source": [
    "print(\"Hello \\nWorld\")"
   ]
  },
  {
   "cell_type": "code",
   "execution_count": 80,
   "metadata": {},
   "outputs": [
    {
     "name": "stdout",
     "output_type": "stream",
     "text": [
      "'낮말'은 새가 듣고 '밤말'은 쥐가 듣는다.\n",
      "'낮말'은 새가 듣고 '밤말'은 쥐가 듣는다.\n"
     ]
    }
   ],
   "source": [
    "# Problem 5.\n",
    "\n",
    "print(\"\\'낮말\\'은 새가 듣고 \\'밤말\\'은 쥐가 듣는다.\")\n",
    "# or\n",
    "print(\"'낮말'은 새가 듣고 '밤말'은 쥐가 듣는다.\")    # single quotations inside double quotations."
   ]
  },
  {
   "cell_type": "markdown",
   "metadata": {},
   "source": [
    "#### IV. String Operations"
   ]
  },
  {
   "cell_type": "markdown",
   "metadata": {},
   "source": [
    "##### a. String Concatenation\n",
    "Combining two or more strings"
   ]
  },
  {
   "cell_type": "code",
   "execution_count": 72,
   "metadata": {},
   "outputs": [
    {
     "name": "stdout",
     "output_type": "stream",
     "text": [
      "PythonHello\n"
     ]
    }
   ],
   "source": [
    "head = \"Python\"\n",
    "tail = \"Hello\"\n",
    "\n",
    "print(head + tail)"
   ]
  },
  {
   "cell_type": "markdown",
   "metadata": {},
   "source": [
    "##### b. String Repetition\n",
    "Repeating a string multiple times"
   ]
  },
  {
   "cell_type": "code",
   "execution_count": 73,
   "metadata": {},
   "outputs": [
    {
     "name": "stdout",
     "output_type": "stream",
     "text": [
      "PythonPythonPython\n"
     ]
    }
   ],
   "source": [
    "head = \"Python\"\n",
    "print(head * 3)"
   ]
  },
  {
   "cell_type": "markdown",
   "metadata": {},
   "source": [
    "##### c. String Length\n",
    "Getting the number of characters in a string"
   ]
  },
  {
   "cell_type": "code",
   "execution_count": 74,
   "metadata": {},
   "outputs": [
    {
     "name": "stdout",
     "output_type": "stream",
     "text": [
      "6\n"
     ]
    }
   ],
   "source": [
    "string = \"Python\"\n",
    "print(len(string))"
   ]
  },
  {
   "cell_type": "code",
   "execution_count": 77,
   "metadata": {},
   "outputs": [
    {
     "name": "stdout",
     "output_type": "stream",
     "text": [
      "17\n"
     ]
    }
   ],
   "source": [
    "# Spaces are also counted when calculating length\n",
    "samplestring = \"Life is too short\"\n",
    "print(len(samplestring))"
   ]
  },
  {
   "cell_type": "markdown",
   "metadata": {},
   "source": [
    "##### d. String Indexing and Slicing\n",
    "Extracting part or parts of a string."
   ]
  },
  {
   "cell_type": "code",
   "execution_count": 82,
   "metadata": {},
   "outputs": [
    {
     "name": "stdout",
     "output_type": "stream",
     "text": [
      "t\n"
     ]
    }
   ],
   "source": [
    "# String Indexing - get the letter 't' of 'too'\n",
    "string = \"Life is too short\"\n",
    "print(string[8])    # index starting from 0"
   ]
  },
  {
   "cell_type": "code",
   "execution_count": 83,
   "metadata": {},
   "outputs": [
    {
     "name": "stdout",
     "output_type": "stream",
     "text": [
      "s\n"
     ]
    }
   ],
   "source": [
    "# Can also count down from 0 to get the n-th character from the end.\n",
    "string = \"Life is too short\"\n",
    "print(string[-5])"
   ]
  },
  {
   "cell_type": "code",
   "execution_count": 87,
   "metadata": {},
   "outputs": [
    {
     "name": "stdout",
     "output_type": "stream",
     "text": [
      "too\n",
      "too\n"
     ]
    }
   ],
   "source": [
    "# String Slicing\n",
    "# Get 'too' from the sentnece\n",
    "string = \"Life is too short\"\n",
    "\n",
    "# Using Indexing\n",
    "print(string[8]+string[9]+string[10])\n",
    "\n",
    "# Using Slicing\n",
    "print(string[8:11])     # Starting index is inclusive but the ending index is exclusive.\n"
   ]
  },
  {
   "cell_type": "code",
   "execution_count": 91,
   "metadata": {},
   "outputs": [
    {
     "name": "stdout",
     "output_type": "stream",
     "text": [
      "Life is too short\n",
      "too short\n",
      "Lf stosot\n"
     ]
    }
   ],
   "source": [
    "string = \"Life is too short\"\n",
    "\n",
    "print(string[:17])      # start index is 0 by default\n",
    "print(string[8:])       # ending index is all the way to the end by default\n",
    "print(string[::2])      # step determins how many characters to skip"
   ]
  },
  {
   "cell_type": "code",
   "execution_count": 105,
   "metadata": {},
   "outputs": [
    {
     "name": "stdout",
     "output_type": "stream",
     "text": [
      "Lion\n"
     ]
    }
   ],
   "source": [
    "# Problem 6\n",
    "# Create a new word using indexing and slicing\n",
    "\n",
    "string = \"Life is too short, you need Python\"\n",
    "word = string[0:2] + string[-2:]\n",
    "\n",
    "print(word)"
   ]
  },
  {
   "cell_type": "markdown",
   "metadata": {},
   "source": [
    "### E. User Input\n",
    "* Input() function"
   ]
  },
  {
   "cell_type": "code",
   "execution_count": 107,
   "metadata": {},
   "outputs": [
    {
     "name": "stdout",
     "output_type": "stream",
     "text": [
      "Your name is John Doe\n"
     ]
    }
   ],
   "source": [
    "name = input()\n",
    "\n",
    "print(\"Your name is \" + name)"
   ]
  },
  {
   "cell_type": "code",
   "execution_count": 108,
   "metadata": {},
   "outputs": [
    {
     "name": "stdout",
     "output_type": "stream",
     "text": [
      "Your name is John Doe\n"
     ]
    }
   ],
   "source": [
    "# Can also display a message/prompt for input\n",
    "name = input(\"What is your name?\")\n",
    "print(\"Your name is \" + name)"
   ]
  },
  {
   "cell_type": "code",
   "execution_count": 109,
   "metadata": {},
   "outputs": [
    {
     "name": "stdout",
     "output_type": "stream",
     "text": [
      "9\n"
     ]
    }
   ],
   "source": [
    "# Problem 7\n",
    "# Get two integer inputs from the user\n",
    "# Then, add those two numbers together\n",
    "\n",
    "n1 = input(\"First number: \")\n",
    "n2 = input(\"Second number: \")\n",
    "\n",
    "print(int(n1) + int(n2))"
   ]
  },
  {
   "cell_type": "code",
   "execution_count": 117,
   "metadata": {},
   "outputs": [
    {
     "name": "stdout",
     "output_type": "stream",
     "text": [
      "Base =  10 \n",
      "Height =  6\n",
      "The area of the Triangle =  30.0\n"
     ]
    }
   ],
   "source": [
    "# Problem 7.H1\n",
    "# Calculate the Area of a Triangle\n",
    "# Receive two inputs from the user: one for the base and the other for the height of the triangle,\n",
    "# then calculate the area of the triangle.\n",
    "\n",
    "base = int(input(\"Base: \"))\n",
    "height = int(input(\"Height: \"))\n",
    "\n",
    "area_T = base * height * 0.5\n",
    "\n",
    "print(\"Base = \", base, \"\\nHeight = \", height)\n",
    "print(\"The area of the Triangle = \", area_T)"
   ]
  },
  {
   "cell_type": "code",
   "execution_count": 115,
   "metadata": {},
   "outputs": [
    {
     "name": "stdout",
     "output_type": "stream",
     "text": [
      "Number of Gimbap ordered:  2 \n",
      "Number of Tteokbokki ordered:  1 \n",
      "Number of Ramyeon ordered:  2 \n",
      "Total Price =  14500\n"
     ]
    }
   ],
   "source": [
    "# Problem 7.H2\n",
    "# Snack Bar Order \n",
    "# The menu is as follows.\n",
    "# Write a program that receives the quantity ordered for each menu item and automatically calculates the total amount to be paid.\n",
    "# Prices: 김밥 = 3,000, 떡볶이 = 3,500, 라면 = \"2,500\"\n",
    "\n",
    "Gimbap = int(input(\"Number of Gimbap: \"))\n",
    "Tteokbokki = int(input(\"Number of Tteokbokki: \"))\n",
    "Ramyeon = int(input(\"Number of Ramyeon: \"))\n",
    "\n",
    "print(\"Number of Gimbap ordered: \", Gimbap,\\\n",
    "      \"\\nNumber of Tteokbokki ordered: \", Tteokbokki,\\\n",
    "        \"\\nNumber of Ramyeon ordered: \", Ramyeon,\\\n",
    "            \"\\nTotal Price = \", (Gimbap * 3000) + (Tteokbokki * 3500) + (Ramyeon * 2500))"
   ]
  },
  {
   "cell_type": "markdown",
   "metadata": {},
   "source": [
    "### F. f-string"
   ]
  },
  {
   "cell_type": "code",
   "execution_count": null,
   "metadata": {},
   "outputs": [
    {
     "name": "stdout",
     "output_type": "stream",
     "text": [
      "1000.1234 * 2000.456789 = 2000703.6453677625\n",
      "1000.1234 * 2000.4568 = 2,000,703.6454\n"
     ]
    }
   ],
   "source": [
    "a = float(input(\"First number: \"))\n",
    "b = float(input(\"Second number: \"))\n",
    "\n",
    "print(f'{a} * {b} = {a * b}')\n",
    "print(f'{a:.4f} * {b:.4f} = {a * b:,.4f}')      # Display the value to four decimal places"
   ]
  },
  {
   "cell_type": "code",
   "execution_count": 131,
   "metadata": {},
   "outputs": [
    {
     "name": "stdout",
     "output_type": "stream",
     "text": [
      "Radius = 150.7㎝\n",
      "The circumference of the circle is 946.4㎝\n",
      "The area of the circle is 71,310.9386㎠\n"
     ]
    }
   ],
   "source": [
    "# Challenge\n",
    "# Receive the input of the radius of a circle as float, and calculate the circumference and area of the circle.\n",
    "# Output the circumference rounded to one decimal place and format the area with commas to set off thousands.\n",
    "\n",
    "radius = float(input(\"Radius of a circle: \"))\n",
    "print(f\"Radius = {radius}㎝\")\n",
    "\n",
    "circum = radius * 2 * 3.14\n",
    "area_C = (radius ** 2) * 3.14\n",
    "\n",
    "print(f\"The circumference of the circle is {circum:.1f}㎝\\\n",
    "\\nThe area of the circle is {area_C:,}㎠\")"
   ]
  },
  {
   "cell_type": "markdown",
   "metadata": {},
   "source": [
    "### G. Program Logic Control Structure\n",
    "* Sequential Logic (Flow)\n",
    "* Selection Logic (Conditional Flow)\n",
    "* Iteration Logic (Repetitive Flow)"
   ]
  },
  {
   "cell_type": "markdown",
   "metadata": {},
   "source": [
    "#### I. Conditional Statements"
   ]
  },
  {
   "cell_type": "markdown",
   "metadata": {},
   "source": [
    "##### a. If Statements\n",
    "if {condition}: {command}"
   ]
  },
  {
   "cell_type": "code",
   "execution_count": 134,
   "metadata": {},
   "outputs": [
    {
     "name": "stdout",
     "output_type": "stream",
     "text": [
      "This is a test\n",
      "Hello World\n"
     ]
    }
   ],
   "source": [
    "result = 10 > 4\n",
    "if result:\n",
    "    print(\"This is a test\")\n",
    "\n",
    "result = 10 - 4\n",
    "if result:\n",
    "    print(\"Hello World\")"
   ]
  },
  {
   "cell_type": "code",
   "execution_count": 135,
   "metadata": {},
   "outputs": [
    {
     "name": "stdout",
     "output_type": "stream",
     "text": [
      "This is OR\n"
     ]
    }
   ],
   "source": [
    "result1 = 10 > 4\n",
    "result2 = False\n",
    "result3 = result1 and result2       # False\n",
    "\n",
    "if result3:\n",
    "    print(\"This is AND\")\n",
    "\n",
    "result3 = result1 or result2\n",
    "\n",
    "if result3:\n",
    "    print(\"This is OR\")"
   ]
  },
  {
   "cell_type": "code",
   "execution_count": 136,
   "metadata": {},
   "outputs": [
    {
     "name": "stdout",
     "output_type": "stream",
     "text": [
      "Buy stuffs\n",
      "Money\n"
     ]
    }
   ],
   "source": [
    "money = 10 - 6\n",
    "\n",
    "if money:\n",
    "    print(\"Buy stuffs\")\n",
    "else:\n",
    "    print(\"Save\")\n",
    "print(\"Money\")"
   ]
  },
  {
   "cell_type": "code",
   "execution_count": 139,
   "metadata": {},
   "outputs": [
    {
     "name": "stdout",
     "output_type": "stream",
     "text": [
      "The integer 2 is an even integer\n"
     ]
    }
   ],
   "source": [
    "# Even or Odd\n",
    "num = int(input(\"Insert an integer: \"))\n",
    "\n",
    "if num % 2 == 0:\n",
    "    print(f\"The integer {num} is an even integer\")\n",
    "else:\n",
    "    print(f\"The integer {num} is an odd integer\")"
   ]
  },
  {
   "cell_type": "code",
   "execution_count": 146,
   "metadata": {},
   "outputs": [
    {
     "name": "stdout",
     "output_type": "stream",
     "text": [
      "Your letter score is A\n"
     ]
    }
   ],
   "source": [
    "score = int(input(\"Enter your score: \"))\n",
    "if score >= 90:\n",
    "    letter_score = \"A\"\n",
    "elif score >= 80:\n",
    "    letter_score = \"B\"\n",
    "elif score >= 70:\n",
    "    letter_score = \"C\"\n",
    "elif score >= 60:\n",
    "    letter_score = \"D\"\n",
    "else:\n",
    "    letter_score = \"F\"\n",
    "\n",
    "print(f\"Your letter score is {letter_score}\")"
   ]
  },
  {
   "cell_type": "code",
   "execution_count": 153,
   "metadata": {},
   "outputs": [
    {
     "name": "stdout",
     "output_type": "stream",
     "text": [
      "0\n",
      "You can buy the mask on Friday\n"
     ]
    }
   ],
   "source": [
    "# 2.\n",
    "year_born = input(\"Enter the year you were born: \")\n",
    "age = int(input(\"Enter your age: \"))\n",
    "\n",
    "print(year_born[-1])\n",
    "if age >= 65:\n",
    "    day = \"Every day\"\n",
    "else:\n",
    "    if year_born[-1] == \"1\" or year_born[-1] == \"6\":\n",
    "        day = \"Monday\"\n",
    "    elif year_born[-1] == \"2\" or year_born[-1] == \"7\":\n",
    "        day = \"Tuesday\"\n",
    "    elif year_born[-1] == \"3\" or year_born[-1] == \"8\":\n",
    "        day = \"Wednesday\"\n",
    "    elif year_born[-1] == \"4\" or year_born[-1] == \"9\":\n",
    "        day = \"Thursday\"\n",
    "    elif year_born[-1] == \"5\" or year_born[-1] == \"0\":\n",
    "        day = \"Friday\"\n",
    "\n",
    "print(f\"You can buy the mask on {day}\")"
   ]
  },
  {
   "cell_type": "code",
   "execution_count": 158,
   "metadata": {},
   "outputs": [
    {
     "name": "stdout",
     "output_type": "stream",
     "text": [
      "Your BMI is '21.913805697589478' and your status is 'Healthy Weight'\n"
     ]
    }
   ],
   "source": [
    "# 3.\n",
    "height = float(input(\"Enter your height: \"))\n",
    "weight = float(input(\"Enter your weight: \"))\n",
    "\n",
    "BMI = weight / (height * height)\n",
    "\n",
    "if BMI >= 25:\n",
    "    status = \"Obesity\"\n",
    "elif BMI >= 23:\n",
    "    status = \"Oveweight\"\n",
    "elif BMI >18.5:\n",
    "    status = \"Healthy Weight\"\n",
    "elif BMI < 18.5:\n",
    "    status = \"Underweight\"\n",
    "\n",
    "print(f\"Your BMI is \\'{BMI}\\' and your status is \\'{status}\\'\")"
   ]
  },
  {
   "cell_type": "code",
   "execution_count": 160,
   "metadata": {},
   "outputs": [
    {
     "name": "stdout",
     "output_type": "stream",
     "text": [
      "Cars with even carplate number can operate today.\n",
      "You can operate your car today.\n"
     ]
    }
   ],
   "source": [
    "# 3.\n",
    "day = int(input(\"Enter today's date: \"))\n",
    "carplate = int(input(\"Enter your carplate number: \"))\n",
    "\n",
    "flag = 0\n",
    "if day < 1 or day > 31:\n",
    "    print(\"Error: Invalid Date\")\n",
    "    flag = 1\n",
    "if len(str(carplate)) != 4:\n",
    "    print(\"Error: Invalid carplate number\")\n",
    "    flag = 1\n",
    "\n",
    "if flag == 0:\n",
    "    if day % 2 == 0:\n",
    "        print(\"Cars with even carplate number can operate today.\")\n",
    "        if carplate % 2 == 0:\n",
    "            print(\"You can operate your car today.\")\n",
    "        else:\n",
    "            print(\"You cannot operate your car today.\")\n",
    "    else:\n",
    "        print(\"Cars with odd carplate number can operate today.\")\n",
    "        if carplate % 2 == 0:\n",
    "            print(\"Your cannot operate your car today.\")\n",
    "        else:\n",
    "            print(\"You can operate your car today.\")\n",
    "            \n",
    "\n"
   ]
  },
  {
   "cell_type": "code",
   "execution_count": null,
   "metadata": {},
   "outputs": [
    {
     "name": "stdout",
     "output_type": "stream",
     "text": [
      "Hello Brian!\n",
      "Today marks your 12th visit.\n"
     ]
    }
   ],
   "source": [
    "# f-string recap exercise\n",
    "\n",
    "name = input(\"Enter your name: \")\n",
    "visit = int(input(\"Enter the number of visits: \"))\n",
    "\n",
    "print(f\"Hello {name}!\")\n",
    "print(f\"Today marks your {visit + 1}{'st' if (visit + 1) % 10 == 1 and (visit + 1) % 100 != 11 else 'nd' if (visit + 1) % 10 == 2 and (visit + 1) % 100 != 12 else 'rd' if (visit + 1) % 10 == 3 and (visit + 1) % 100 != 13 else 'th'} visit.\")"
   ]
  },
  {
   "cell_type": "code",
   "execution_count": 15,
   "metadata": {},
   "outputs": [
    {
     "name": "stdout",
     "output_type": "stream",
     "text": [
      "Your Korean Social Secutiy Number is: 001230-3**9999\n"
     ]
    }
   ],
   "source": [
    "# string indexing and slicing recap exercise\n",
    "\n",
    "gender = input(\"Enter your gender: m/f\")\n",
    "dob = input(\"Enter your date of birth: yyyy/mm/dd\")\n",
    "ssn4 = input(\"Enter your last four digits of your social security number: \")\n",
    "\n",
    "if gender == \"m\":\n",
    "    if int(dob[0:4]) < 2000:\n",
    "        gender_code = 1\n",
    "    elif int(dob[0:4]) >= 2000:\n",
    "        gender_code = 3\n",
    "elif gender == \"f\":\n",
    "    if int(dob[0:4]) < 2000:\n",
    "        gender_code = 2\n",
    "    elif int(dob[0:4]) >= 2000:\n",
    "        gender_code = 4\n",
    "\n",
    "korean_ssn = dob[2:4] + dob[5:7] + dob[8:10] + \"-\" + str(gender_code) + \"**\" + ssn4\n",
    "\n",
    "print(f\"Your Korean Social Secutiy Number is: {korean_ssn}\")"
   ]
  },
  {
   "cell_type": "code",
   "execution_count": 14,
   "metadata": {},
   "outputs": [
    {
     "name": "stdout",
     "output_type": "stream",
     "text": [
      "역삼역 도어읽 로꾸거 역삼역 도어읽 로으앞 .다니입역삼역 ,역삼역 은역번이\n"
     ]
    }
   ],
   "source": [
    "# challenge 1\n",
    "# Output the text given below in a reverse order.\n",
    "string = \"이번역은 역삼역, 역삼역입니다. 앞으로 읽어도 역삼역 거꾸로 읽어도 역삼역\"\n",
    "\n",
    "rev_string = string[::-1]\n",
    "print(rev_string)"
   ]
  },
  {
   "cell_type": "code",
   "execution_count": 23,
   "metadata": {},
   "outputs": [
    {
     "name": "stdout",
     "output_type": "stream",
     "text": [
      "Invalid ID\n"
     ]
    }
   ],
   "source": [
    "# conditional statement recap exercise\n",
    "# Login system using ID and password\n",
    "\n",
    "###\n",
    "system = {\n",
    "    \"6a123\": \"MSAISCHOOL123\",\n",
    "    \"6a456\": \"MSAISCHOOL456\",\n",
    "    \"6a789\": \"MSAISCHOOL789\",\n",
    "    \"6b123\": \"MSAISCHOOL123\",\n",
    "    \"6b456\": \"MSAISCHOOL456\",\n",
    "    \"6b789\": \"MSAISCHOOL789\"\n",
    "}\n",
    "###\n",
    "\n",
    "user_id = input(\"ID: \")\n",
    "user_pw = input(\"Password: \")\n",
    "\n",
    "if user_id in system:\n",
    "    if user_pw == system[user_id]:\n",
    "        print(\"Login successful!\")\n",
    "    else:\n",
    "        print(\"Invalid Password\")\n",
    "else:\n",
    "    print(\"Invalid ID\")"
   ]
  },
  {
   "cell_type": "markdown",
   "metadata": {},
   "source": [
    "#### II. Iteration\n",
    "also know as loop statement\n",
    "* while: conditional iteration\n",
    "* for: sequential interation\n",
    "* while True: indefinite (continuous) iteration"
   ]
  },
  {
   "cell_type": "markdown",
   "metadata": {},
   "source": [
    "##### a. While Loop"
   ]
  },
  {
   "cell_type": "code",
   "execution_count": 1,
   "metadata": {},
   "outputs": [
    {
     "data": {
      "text/plain": [
       "'\\nwhile {condition}:\\n    {statement}\\n'"
      ]
     },
     "execution_count": 1,
     "metadata": {},
     "output_type": "execute_result"
    }
   ],
   "source": [
    "# While Loop Pseudocode\n",
    "\"\"\"\n",
    "while {condition}:\n",
    "    {statement}\n",
    "\"\"\""
   ]
  },
  {
   "cell_type": "code",
   "execution_count": 7,
   "metadata": {},
   "outputs": [
    {
     "name": "stdout",
     "output_type": "stream",
     "text": [
      "Start of the while loop\n",
      "Loop #1: Hello Python\n",
      "Loop #2: Hello Python\n",
      "Loop #3: Hello Python\n",
      "Loop #4: Hello Python\n",
      "Loop #5: Hello Python\n",
      "End of the while loop\n"
     ]
    }
   ],
   "source": [
    "i = 0\n",
    "print(\"Start of the while loop\")\n",
    "while i < 5:\n",
    "    print(f\"Loop #{i+1}: Hello Python\")\n",
    "    i = i + 1\n",
    "print(\"End of the while loop\")"
   ]
  },
  {
   "cell_type": "code",
   "execution_count": 9,
   "metadata": {},
   "outputs": [
    {
     "name": "stdout",
     "output_type": "stream",
     "text": [
      "1 2 3 4 5 6 7 8 9 10 11 12 13 14 15 16 17 18 19 20 "
     ]
    }
   ],
   "source": [
    "# Exercise - print 1 through 20 using while loop\n",
    "\n",
    "i = 0\n",
    "while i < 20:\n",
    "    print(i+1, end =\" \")\n",
    "    i += 1"
   ]
  },
  {
   "cell_type": "code",
   "execution_count": null,
   "metadata": {},
   "outputs": [
    {
     "name": "stdout",
     "output_type": "stream",
     "text": [
      "The total sum of the integers from 1 to 20 is 210\n",
      "The total product of the integers from 1 to 20 is 2432902008176640000\n",
      "The total sum of the even integers from 1 to 20 is 110\n"
     ]
    }
   ],
   "source": [
    "# Challenge - Take an integer input from the user and calculate the sum of all numbers from 1 to the user-input number.\n",
    "\n",
    "user_integer = int(input(\"Enter an integer: \"))\n",
    "\n",
    "i = 1   # starting value set to 1 and increment it each iteration\n",
    "total_sum = 0\n",
    "total_product = 1\n",
    "even_sum = 0\n",
    "while i < user_integer + 1:\n",
    "    # task 1: Get the total sum\n",
    "    total_sum += i\n",
    "    # task 2: Get the total product\n",
    "    total_product *= i\n",
    "    # task 3: Get the total sum of the even integers\n",
    "    if i % 2 == 0:\n",
    "        even_sum += i \n",
    "    i+= 1\n",
    "\n",
    "print(f\"The total sum of the integers from 1 to {user_integer} is {total_sum}\")\n",
    "print(f\"The total product of the integers from 1 to {user_integer} is {total_product}\")\n",
    "print(f\"The total sum of the even integers from 1 to {user_integer} is {even_sum}\")"
   ]
  },
  {
   "cell_type": "markdown",
   "metadata": {},
   "source": [
    "##### b. For Loop"
   ]
  },
  {
   "cell_type": "code",
   "execution_count": 23,
   "metadata": {},
   "outputs": [
    {
     "data": {
      "text/plain": [
       "'\\nfor {variable} in {iterable}:\\n    {statement}\\n'"
      ]
     },
     "execution_count": 23,
     "metadata": {},
     "output_type": "execute_result"
    }
   ],
   "source": [
    "# For Loop Pseudocode\n",
    "\"\"\"\n",
    "for {variable} in {iterable}:\n",
    "    {statement}\n",
    "\"\"\""
   ]
  },
  {
   "cell_type": "markdown",
   "metadata": {},
   "source": [
    "###### range() function\n",
    "\n",
    "range({start_index}, {end_index}, {step_size})\n",
    "- start_index(inclusive) is where the loop starts. Has a default value of 0\n",
    "- end_index(exclusive) is where the loop ends.\n",
    "- step_size(optional) determins how many steps to skip. Has a default value of 1"
   ]
  },
  {
   "cell_type": "code",
   "execution_count": 31,
   "metadata": {},
   "outputs": [
    {
     "name": "stdout",
     "output_type": "stream",
     "text": [
      "1\n",
      "2\n",
      "3\n",
      "4\n",
      "5\n"
     ]
    }
   ],
   "source": [
    "for i in range(1, 6):\n",
    "    print(i)"
   ]
  },
  {
   "cell_type": "code",
   "execution_count": 32,
   "metadata": {},
   "outputs": [
    {
     "name": "stdout",
     "output_type": "stream",
     "text": [
      "10\n",
      "9\n",
      "8\n",
      "7\n",
      "6\n",
      "5\n",
      "4\n",
      "3\n",
      "2\n",
      "1\n"
     ]
    }
   ],
   "source": [
    "for i in range(10, 0, -1):\n",
    "    print(i)"
   ]
  },
  {
   "cell_type": "code",
   "execution_count": 35,
   "metadata": {},
   "outputs": [
    {
     "name": "stdout",
     "output_type": "stream",
     "text": [
      "The total sum of the integers from 1 to 10 is 55\n",
      "The total product of the integers from 1 to 10 is 3628800\n",
      "The total sum of the even integers from 1 to 10 is 30\n"
     ]
    }
   ],
   "source": [
    "# Challenge - Take an integer input from the user and calculate the sum of all numbers from 1 to the user-input number \n",
    "# using for loop and range() function\n",
    "\n",
    "user_integer = int(input(\"Enter an integer: \"))\n",
    "\n",
    "total_sum = 0\n",
    "total_product = 1\n",
    "even_sum = 0\n",
    "for i in range(user_integer):\n",
    "    # task 1: Get the total sum\n",
    "    total_sum += i + 1\n",
    "    # task 2: Get the total product\n",
    "    total_product *= i + 1\n",
    "    # task 3: Get the total sum of the even integers\n",
    "    if (i + 1) % 2 == 0:\n",
    "        even_sum += i + 1 \n",
    "\n",
    "print(f\"The total sum of the integers from 1 to {user_integer} is {total_sum}\")\n",
    "print(f\"The total product of the integers from 1 to {user_integer} is {total_product}\")\n",
    "print(f\"The total sum of the even integers from 1 to {user_integer} is {even_sum}\")"
   ]
  },
  {
   "cell_type": "code",
   "execution_count": 40,
   "metadata": {},
   "outputs": [
    {
     "name": "stdout",
     "output_type": "stream",
     "text": [
      "*** Multiplications of 16 ***\n",
      "16 x 1 = 16\n",
      "16 x 2 = 32\n",
      "16 x 3 = 48\n",
      "16 x 4 = 64\n",
      "16 x 5 = 80\n",
      "16 x 6 = 96\n",
      "16 x 7 = 112\n",
      "16 x 8 = 128\n",
      "16 x 9 = 144\n"
     ]
    }
   ],
   "source": [
    "# For Loop exercise\n",
    "# Display the multiplication table for the number entered by the user.\n",
    "\n",
    "base_num = int(input(\"Enter an integer to generate its multiplicaiton table: \"))\n",
    "print(f\"*** Multiplications of {base_num} ***\")\n",
    "for i in range(1, 10):\n",
    "    print(f\"{base_num} x {i} = {base_num * i}\")"
   ]
  },
  {
   "cell_type": "code",
   "execution_count": 41,
   "metadata": {},
   "outputs": [
    {
     "name": "stdout",
     "output_type": "stream",
     "text": [
      "*** Multiplications of 16 ***\n",
      "16 x 1 = 16\n",
      "16 x 2 = 32\n",
      "16 x 3 = 48\n",
      "16 x 4 = 64\n",
      "16 x 5 = 80\n",
      "16 x 6 = 96\n",
      "16 x 7 = 112\n",
      "16 x 8 = 128\n",
      "16 x 9 = 144\n"
     ]
    }
   ],
   "source": [
    "# Using while loop\n",
    "\n",
    "base_num = int(input(\"Enter an integer to generate its multiplication table: \"))\n",
    "print(f\"*** Multiplications of {base_num} ***\")\n",
    "\n",
    "i = 1\n",
    "while i < 10:\n",
    "    print(f\"{base_num} x {i} = {base_num * i}\")\n",
    "    i += 1"
   ]
  },
  {
   "cell_type": "code",
   "execution_count": 52,
   "metadata": {},
   "outputs": [
    {
     "name": "stdout",
     "output_type": "stream",
     "text": [
      "**************************************** M U L T I P L I C A T I O N\tT A B L E ****************************************\n",
      "\n",
      "2 x 1 = 2\t3 x 1 = 3\t4 x 1 = 4\t5 x 1 = 5\t6 x 1 = 6\t7 x 1 = 7\t8 x 1 = 8\t9 x 1 = 9\t\n",
      "\n",
      "2 x 2 = 4\t3 x 2 = 6\t4 x 2 = 8\t5 x 2 = 10\t6 x 2 = 12\t7 x 2 = 14\t8 x 2 = 16\t9 x 2 = 18\t\n",
      "\n",
      "2 x 3 = 6\t3 x 3 = 9\t4 x 3 = 12\t5 x 3 = 15\t6 x 3 = 18\t7 x 3 = 21\t8 x 3 = 24\t9 x 3 = 27\t\n",
      "\n",
      "2 x 4 = 8\t3 x 4 = 12\t4 x 4 = 16\t5 x 4 = 20\t6 x 4 = 24\t7 x 4 = 28\t8 x 4 = 32\t9 x 4 = 36\t\n",
      "\n",
      "2 x 5 = 10\t3 x 5 = 15\t4 x 5 = 20\t5 x 5 = 25\t6 x 5 = 30\t7 x 5 = 35\t8 x 5 = 40\t9 x 5 = 45\t\n",
      "\n",
      "2 x 6 = 12\t3 x 6 = 18\t4 x 6 = 24\t5 x 6 = 30\t6 x 6 = 36\t7 x 6 = 42\t8 x 6 = 48\t9 x 6 = 54\t\n",
      "\n",
      "2 x 7 = 14\t3 x 7 = 21\t4 x 7 = 28\t5 x 7 = 35\t6 x 7 = 42\t7 x 7 = 49\t8 x 7 = 56\t9 x 7 = 63\t\n",
      "\n",
      "2 x 8 = 16\t3 x 8 = 24\t4 x 8 = 32\t5 x 8 = 40\t6 x 8 = 48\t7 x 8 = 56\t8 x 8 = 64\t9 x 8 = 72\t\n",
      "\n",
      "2 x 9 = 18\t3 x 9 = 27\t4 x 9 = 36\t5 x 9 = 45\t6 x 9 = 54\t7 x 9 = 63\t8 x 9 = 72\t9 x 9 = 81\t\n",
      "\n"
     ]
    }
   ],
   "source": [
    "# Challenge\n",
    "# Multiplication tables for integers 2 to 9\n",
    "\n",
    "print(f\"{\"*\" * 40} M U L T I P L I C A T I O N\\tT A B L E {\"*\" * 40}\\n\")\n",
    "for i in range(1, 10):\n",
    "    for j in range(2, 10):\n",
    "        print(f\"{j} x {i} = {j * i}\", end=\"\\t\")\n",
    "    print(\"\\n\")"
   ]
  },
  {
   "cell_type": "markdown",
   "metadata": {},
   "source": [
    "##### Keyword: break\n",
    "* Stops the iteration and exit a loop (break out of a loop)"
   ]
  },
  {
   "cell_type": "code",
   "execution_count": 55,
   "metadata": {},
   "outputs": [
    {
     "name": "stdout",
     "output_type": "stream",
     "text": [
      "6 21\n",
      "21\n"
     ]
    }
   ],
   "source": [
    "# Using break in a for loop\n",
    "\n",
    "sum = 0\n",
    "for i in range(1, 11):\n",
    "    sum += i\n",
    "    if sum >= 20:\n",
    "        print(i, sum)\n",
    "        break       # Break out of the loop when the sum reaches 20 or higher.\n",
    "\n",
    "print(sum)"
   ]
  },
  {
   "cell_type": "code",
   "execution_count": 57,
   "metadata": {},
   "outputs": [
    {
     "name": "stdout",
     "output_type": "stream",
     "text": [
      "Operation 1. ADD\n",
      "Adding 100 to the total\n",
      "Operation 2. DEL\n",
      "Subtracting 10 from the total\n",
      "Operation 2. DEL\n",
      "Subtracting 20 from the total\n",
      "Operation 3. QUIT\n",
      "70\n"
     ]
    }
   ],
   "source": [
    "result = 0\n",
    "\n",
    "while True:\n",
    "    prompt_code = int(input(\"Choose an operation: \\n1. ADD\\n2. DEL\\n3. QUIT\"))\n",
    "    if prompt_code == 3:\n",
    "        print(\"Operation 3. QUIT\")\n",
    "        break\n",
    "    input_num = int(input(\"Enter an integer: \"))\n",
    "    if prompt_code == 1:\n",
    "        print(\"Operation 1. ADD\")\n",
    "        print(f\"Adding {input_num} to the total\")\n",
    "        result += input_num\n",
    "    elif prompt_code == 2:\n",
    "        print(\"Operation 2. DEL\")\n",
    "        print(f\"Subtracting {input_num} from the total\")\n",
    "        result -= input_num\n",
    "    else:\n",
    "        print(\"Invalid Operation\")\n",
    "        break\n",
    "print(result)\n"
   ]
  },
  {
   "cell_type": "markdown",
   "metadata": {},
   "source": [
    "##### Keyword: continue\n",
    "* Ends the current iteration in a loop and continues to the next iteration."
   ]
  },
  {
   "cell_type": "code",
   "execution_count": 60,
   "metadata": {},
   "outputs": [
    {
     "name": "stdout",
     "output_type": "stream",
     "text": [
      "1 3 5 7 9 \n",
      "The total sum of odd integers from 1 to 10 is 25\n"
     ]
    }
   ],
   "source": [
    "# Get odd integers and the total sum of odd integers using continue keyword in a loop\n",
    "\n",
    "odd_sum = 0\n",
    "for i in range(1, 11):\n",
    "    if i % 2 == 0:\n",
    "        continue\n",
    "    else:\n",
    "        odd_sum += i\n",
    "        print(i, end = \" \")\n",
    "\n",
    "print(f\"\\nThe total sum of odd integers from 1 to 10 is {odd_sum}\")"
   ]
  },
  {
   "cell_type": "code",
   "execution_count": 63,
   "metadata": {},
   "outputs": [
    {
     "name": "stdout",
     "output_type": "stream",
     "text": [
      "higher\n",
      "higher\n",
      "higher\n",
      "higher\n",
      "lower\n",
      "lower\n",
      "lower\n",
      "lower\n",
      "Correct!\n",
      "You correctly guessed the number in 9 attempts\n"
     ]
    }
   ],
   "source": [
    "# Challenge - Guess the number\n",
    "### imports\n",
    "import random\n",
    "answer = random.randint(1, 100)     # randomly generate an integer between 1 and 100.\n",
    "\n",
    "guess_count = 0\n",
    "while True:\n",
    "    guess = int(input(\"Guess the number between 1 and 100\"))\n",
    "    guess_count += 1\n",
    "    if guess > answer:\n",
    "        print(\"lower\")\n",
    "\n",
    "    elif guess < answer:\n",
    "        print(\"higher\")\n",
    "        \n",
    "    elif guess == answer:\n",
    "        print(\"Correct!\")\n",
    "        print(f\"You correctly guessed the number in {guess_count} attempts\")\n",
    "        break"
   ]
  }
 ],
 "metadata": {
  "kernelspec": {
   "display_name": "Python 3",
   "language": "python",
   "name": "python3"
  },
  "language_info": {
   "codemirror_mode": {
    "name": "ipython",
    "version": 3
   },
   "file_extension": ".py",
   "mimetype": "text/x-python",
   "name": "python",
   "nbconvert_exporter": "python",
   "pygments_lexer": "ipython3",
   "version": "3.13.1"
  }
 },
 "nbformat": 4,
 "nbformat_minor": 2
}
