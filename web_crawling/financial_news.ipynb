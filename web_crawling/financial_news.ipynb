{
 "cells": [
  {
   "cell_type": "markdown",
   "metadata": {},
   "source": [
    "# Microsoft AI School - Web Scrawling"
   ]
  },
  {
   "cell_type": "markdown",
   "metadata": {},
   "source": [
    "# Collect News Articles from Naver Finance News\n",
    "* Web URL: https://finance.naver.com/news/mainnews.naver\n",
    "* Version:\n",
    "    * Python: 3.13.1\n",
    "    * Selenium: 4.17.0\n"
   ]
  },
  {
   "cell_type": "code",
   "execution_count": 45,
   "metadata": {},
   "outputs": [
    {
     "name": "stdout",
     "output_type": "stream",
     "text": [
      "Collecting openpyxl\n",
      "  Downloading openpyxl-3.1.5-py2.py3-none-any.whl.metadata (2.5 kB)\n",
      "Collecting et-xmlfile (from openpyxl)\n",
      "  Downloading et_xmlfile-2.0.0-py3-none-any.whl.metadata (2.7 kB)\n",
      "Downloading openpyxl-3.1.5-py2.py3-none-any.whl (250 kB)\n",
      "Downloading et_xmlfile-2.0.0-py3-none-any.whl (18 kB)\n",
      "Installing collected packages: et-xmlfile, openpyxl\n",
      "Successfully installed et-xmlfile-2.0.0 openpyxl-3.1.5\n",
      "Note: you may need to restart the kernel to use updated packages.\n"
     ]
    },
    {
     "name": "stderr",
     "output_type": "stream",
     "text": [
      "\n",
      "[notice] A new release of pip is available: 24.3.1 -> 25.0\n",
      "[notice] To update, run: python.exe -m pip install --upgrade pip\n"
     ]
    }
   ],
   "source": [
    "#pip install openpyxl"
   ]
  },
  {
   "cell_type": "markdown",
   "metadata": {},
   "source": [
    "## Imports"
   ]
  },
  {
   "cell_type": "code",
   "execution_count": 1,
   "metadata": {},
   "outputs": [],
   "source": [
    "from selenium.webdriver import Chrome\n",
    "from selenium.webdriver.common.by import By\n",
    "import pandas as pd"
   ]
  },
  {
   "cell_type": "markdown",
   "metadata": {},
   "source": [
    "## Create webdrive instance"
   ]
  },
  {
   "cell_type": "code",
   "execution_count": 2,
   "metadata": {},
   "outputs": [],
   "source": [
    "url = \"https://finance.naver.com/news/mainnews.naver\"\n",
    "\n",
    "driver = Chrome()\n",
    "driver.get(url)"
   ]
  },
  {
   "cell_type": "markdown",
   "metadata": {},
   "source": [
    "## Access Elements\n",
    "Extract data for each article from the financial news browser"
   ]
  },
  {
   "cell_type": "code",
   "execution_count": 3,
   "metadata": {},
   "outputs": [
    {
     "data": {
      "text/plain": [
       "{'subject': '\\'딥시크 충격\\' SK하이닉스 울고·네이버 웃고…\"전략 재점검해야\"',\n",
       " 'summary': \"'딥시크 충격'이 국내 증시에도 상륙하면서 AI(인공지능) 투자 판도가 뒤집어졌다. AI 대표 수혜 주로 주가 상승세를 달리던 SK하이.. 머니투데이 | 2025-01-31 11:19:47\",\n",
       " 'press': '머니투데이',\n",
       " 'date': '2025-01-31 11:19:47',\n",
       " 'source': 'https://n.news.naver.com/mnews/article/008/0005147096'}"
      ]
     },
     "metadata": {},
     "output_type": "display_data"
    },
    {
     "data": {
      "text/plain": [
       "{'subject': '증권사 퇴직연금 운용금액 100조 돌파',\n",
       " 'summary': '작년 4분기 7.85%↑…103.9조 증권3사 실물이전 금액 9400억 퇴직연금 실물이전 제도 시행 3개월 만에 증권사의 퇴직연금 운용.. 헤럴드경제 | 2025-01-31 11:13:09',\n",
       " 'press': '헤럴드경제',\n",
       " 'date': '2025-01-31 11:13:09',\n",
       " 'source': 'https://n.news.naver.com/mnews/article/016/0002422046'}"
      ]
     },
     "metadata": {},
     "output_type": "display_data"
    },
    {
     "data": {
      "text/plain": [
       "{'subject': '삼성전자·SK하이닉스 \\'철렁\\'…\"다음 주까지 긴가민가\"',\n",
       " 'summary': \"● 삼성전자·SK하이닉스 급락, 조정일까 위기일까 '딥시크(Deepseek) 쇼크'로 삼성전자와 SK하이닉스가 조정을 받고 있는 가운데.. 한국경제TV | 2025-01-31 11:12:33\",\n",
       " 'press': '한국경제TV',\n",
       " 'date': '2025-01-31 11:12:33',\n",
       " 'source': 'https://n.news.naver.com/mnews/article/215/0001196890'}"
      ]
     },
     "metadata": {},
     "output_type": "display_data"
    },
    {
     "data": {
      "text/plain": [
       "{'subject': '서학개미 1월 투심도 트럼프 2기 ‘실세’ 머스크로 향했다',\n",
       " 'summary': '테슬라·테슬라ETF 순매수 1·3위 엔비디아·브로드컴 AI칩도 호재 딥시크 충격 변동성엔 ‘주의’ 조언 2025년 을사년(乙巳年) 새해.. 헤럴드경제 | 2025-01-31 11:12:16',\n",
       " 'press': '헤럴드경제',\n",
       " 'date': '2025-01-31 11:12:16',\n",
       " 'source': 'https://n.news.naver.com/mnews/article/016/0002422045'}"
      ]
     },
     "metadata": {},
     "output_type": "display_data"
    },
    {
     "data": {
      "text/plain": [
       "{'subject': \"'中 가성비 AI'에 발칵…딥시크 충격에 '비명' 쏟아진 종목\",\n",
       " 'summary': \"인공지능(AI) 서비스 확산 기대감에 한동안 올랐던 전력인프라주들이 일제 하락세를 타고 있다. 중국 딥시크가 '가성비 AI'를 내놓으면.. 한국경제 | 2025-01-31 11:03:16\",\n",
       " 'press': '한국경제',\n",
       " 'date': '2025-01-31 11:03:16',\n",
       " 'source': 'https://n.news.naver.com/mnews/article/015/0005087851'}"
      ]
     },
     "metadata": {},
     "output_type": "display_data"
    },
    {
     "data": {
      "text/plain": [
       "{'subject': '기업거버넌스포럼 “파행적 고려아연 임시 주총에 국격 추락”',\n",
       " 'summary': '최대주주 영풍의 의결권을 기습적으로 배제하면서 파행적으로 진행된 고려아연의 임시주주총회에 대해 국격을 추락시키는 행위였다는 비판이 제기.. 데일리안 | 2025-01-31 10:56:13',\n",
       " 'press': '데일리안',\n",
       " 'date': '2025-01-31 10:56:13',\n",
       " 'source': 'https://n.news.naver.com/mnews/article/119/0002918531'}"
      ]
     },
     "metadata": {},
     "output_type": "display_data"
    },
    {
     "data": {
      "text/plain": [
       "{'subject': '암호화폐 베테랑 \"비트코인 다음달 13만달러 돌파\"',\n",
       " 'summary': '월가에서 암호화폐 베테랑으로 불리는 제프 켄드릭 스탠다드차타드(SC) 애널리스트가 비트코인 강세론을 주장하고 나섰다. 30일(현지시간).. 한국경제TV | 2025-01-31 10:43:15',\n",
       " 'press': '한국경제TV',\n",
       " 'date': '2025-01-31 10:43:15',\n",
       " 'source': 'https://n.news.naver.com/mnews/article/215/0001196881'}"
      ]
     },
     "metadata": {},
     "output_type": "display_data"
    },
    {
     "data": {
      "text/plain": [
       "{'subject': \"삼성운용 'KODEX 200타겟위클리커버드콜', 두 달만에 순자산 1000억 돌파\",\n",
       " 'summary': '최근 ‘세금 없는’ 국내 주식 시세차익과 장내 파생상품 수익을 활용해 매월 고배당과 추가 수익을 추구하는 국내 자산 연계 타겟커버드콜에.. 파이낸셜뉴스 | 2025-01-31 10:34:36',\n",
       " 'press': '파이낸셜뉴스',\n",
       " 'date': '2025-01-31 10:34:36',\n",
       " 'source': 'https://n.news.naver.com/mnews/article/014/0005301814'}"
      ]
     },
     "metadata": {},
     "output_type": "display_data"
    },
    {
     "data": {
      "text/plain": [
       "{'subject': \"연휴 후 한국 증시, 반도체주 '딥시크 쇼크'\",\n",
       " 'summary': '연휴를 마치고 개장한 코스피가 하락세로 출발했다. 연휴 기간 발생한 다양한 해외 이슈들이 한꺼번에 반영되며 지수에 영향을 미친 것으로 .. 아시아경제 | 2025-01-31 10:11:09',\n",
       " 'press': '아시아경제',\n",
       " 'date': '2025-01-31 10:11:09',\n",
       " 'source': 'https://n.news.naver.com/mnews/article/277/0005539669'}"
      ]
     },
     "metadata": {},
     "output_type": "display_data"
    },
    {
     "data": {
      "text/plain": [
       "{'subject': '메모리 양극화 심화에…삼성전자 4분기 반도체 영업익 2.9조(종합)',\n",
       " 'summary': \"역대 2번째 연간 300조원대 매출…연간 R&D·시설투자는 사상 최대 올해 '상저하고' 흐름 보일 듯…HBM3E 판매 확대 관건 삼성전.. 연합뉴스 | 2025-01-31 10:09:54\",\n",
       " 'press': '연합뉴스',\n",
       " 'date': '2025-01-31 10:09:54',\n",
       " 'source': 'https://n.news.naver.com/mnews/article/001/0015184779'}"
      ]
     },
     "metadata": {},
     "output_type": "display_data"
    },
    {
     "data": {
      "text/plain": [
       "{'subject': '‘딥시크 쇼크’에 관련주 희비…‘반도체’ 울고 ‘AI소프트웨어’ 웃고',\n",
       " 'summary': '‘딥시크 쇼크’ 영향으로 반도체장비 관련주와 인공지능(AI)소프트웨어 관련주의 희비가 엇갈리고 있다. 31일 오전 9시 55분 현재 한.. 매일경제 | 2025-01-31 10:09:08',\n",
       " 'press': '매일경제',\n",
       " 'date': '2025-01-31 10:09:08',\n",
       " 'source': 'https://n.news.naver.com/mnews/article/009/0005436231'}"
      ]
     },
     "metadata": {},
     "output_type": "display_data"
    },
    {
     "data": {
      "text/plain": [
       "{'subject': '\"백종원 믿고 샀는데\" 신저가 찍은 더본코리아…99.99%가 \\'비명\\'',\n",
       " 'summary': '백종원 대표의 더본코리아가 장 중 2%대 내리며 52주 신저가를 기록했다. 31일 오전 9시55분 기준 코스피 시장에서 더본코리아는 전.. 머니투데이 | 2025-01-31 10:08:44',\n",
       " 'press': '머니투데이',\n",
       " 'date': '2025-01-31 10:08:44',\n",
       " 'source': 'https://n.news.naver.com/mnews/article/008/0005147053'}"
      ]
     },
     "metadata": {},
     "output_type": "display_data"
    },
    {
     "data": {
      "text/plain": [
       "{'subject': '미래운용 ‘TIGER 미국필라델피아AI반도체나스닥’, 순자산 3000억 돌파',\n",
       " 'summary': '미래에셋자산운용은 ‘TIGER 미국필라델피아AI반도체나스닥’ 상장지수펀드(ETF)의 순자산이 3000억원을 돌파했다고 31일 밝혔다. .. 이데일리 | 2025-01-31 10:07:09',\n",
       " 'press': '이데일리',\n",
       " 'date': '2025-01-31 10:07:09',\n",
       " 'source': 'https://n.news.naver.com/mnews/article/018/0005933797'}"
      ]
     },
     "metadata": {},
     "output_type": "display_data"
    },
    {
     "data": {
      "text/plain": [
       "{'subject': '‘반도체 뒷걸음질’ 삼성전자…외국인 보유 비중 2년來 최저 [투자360]',\n",
       " 'summary': '50.24%…2023년 1월 이후 최저 외인 6개월 순매도 1위, 2위도 우선주 증권사 7곳 이달 목표주가 하향 ‘가성비 AI 모델’ .. 헤럴드경제 | 2025-01-31 10:02:10',\n",
       " 'press': '헤럴드경제',\n",
       " 'date': '2025-01-31 10:02:10',\n",
       " 'source': 'https://n.news.naver.com/mnews/article/016/0002421966'}"
      ]
     },
     "metadata": {},
     "output_type": "display_data"
    },
    {
     "data": {
      "text/plain": [
       "{'subject': '“투자자 99%가 손실이라니”…리니지 제국 다시 부활할까 [K주식 이걸 사? 말아?]',\n",
       " 'summary': '104만원→17만원 4년 만에 주저앉은 엔씨소프트 주가입니다. 한때 리니지 진성 유저, 이른바 ‘린저씨’들의 사랑을 듬뿍 받으며 국내 .. 매일경제 | 2025-01-31 10:00:10',\n",
       " 'press': '매일경제',\n",
       " 'date': '2025-01-31 10:00:10',\n",
       " 'source': 'https://n.news.naver.com/mnews/article/009/0005436226'}"
      ]
     },
     "metadata": {},
     "output_type": "display_data"
    },
    {
     "data": {
      "text/plain": [
       "{'subject': '딥시크 충격에 SK하이닉스 약세…네이버·카카오 급등',\n",
       " 'summary': '설 연휴를 끝내고 개장한 국내 증시가 하락 출발했다. 연휴 기간 글로벌 증시에 충격을 안긴 중국 인공지능(AI) 기업 딥시크의 영향이 .. 아시아경제 | 2025-01-31 09:58:01',\n",
       " 'press': '아시아경제',\n",
       " 'date': '2025-01-31 09:58:01',\n",
       " 'source': 'https://n.news.naver.com/mnews/article/277/0005539654'}"
      ]
     },
     "metadata": {},
     "output_type": "display_data"
    },
    {
     "data": {
      "text/plain": [
       "{'subject': '\"언젠간 오르겠지\" 버텼는데 적자 확대…호텔신라 목표가도 \\'뚝뚝\\'',\n",
       " 'summary': '지난해 4분기 부진한 실적을 낸 호텔신라가 장 중 3%대 하락 중이다. 호텔신라에 대한 증권가의 시선이 낮아진다. 31일 오전 9시 3.. 머니투데이 | 2025-01-31 09:49:16',\n",
       " 'press': '머니투데이',\n",
       " 'date': '2025-01-31 09:49:16',\n",
       " 'source': 'https://n.news.naver.com/mnews/article/008/0005147039'}"
      ]
     },
     "metadata": {},
     "output_type": "display_data"
    },
    {
     "data": {
      "text/plain": [
       "{'subject': '`딥시크 쇼크` 국장 덮쳤다…SK하이닉스 10%대↓',\n",
       " 'summary': '엔비디아 17% 폭락 여파 중국의 저비용 인공지능(AI) 딥시크(DeepSeek)의 등장 충격에 국내 주식시장도 요동치고 있다. 설 명.. 디지털타임스 | 2025-01-31 09:42:07',\n",
       " 'press': '디지털타임스',\n",
       " 'date': '2025-01-31 09:42:07',\n",
       " 'source': 'https://n.news.naver.com/mnews/article/029/0002932300'}"
      ]
     },
     "metadata": {},
     "output_type": "display_data"
    },
    {
     "data": {
      "text/plain": [
       "{'subject': '현금부자 주목, KODEX 200타겟위클리커버드콜…순자산 1000억 돌파',\n",
       " 'summary': '국내 자산과 연계된 타겟커버드콜 상품에 투자자 관심이 커진다. 1억원을 투자하면 월 142만원을 받을 수 있는데 세금은 3만원 수준이라.. 머니투데이 | 2025-01-31 09:41:32',\n",
       " 'press': '머니투데이',\n",
       " 'date': '2025-01-31 09:41:32',\n",
       " 'source': 'https://n.news.naver.com/mnews/article/008/0005147034'}"
      ]
     },
     "metadata": {},
     "output_type": "display_data"
    },
    {
     "data": {
      "text/plain": [
       "{'subject': '허선호 미래에셋증권 대표 \"서학개미 13조 벌어, 중국·인도로 분산투자\"',\n",
       " 'summary': '허선호 미래에셋증권 대표가 최근 투자자들에게 보낸 투자레터를 보내 지난해 성과를 소개하고 투자 포트폴리오를 다양화 하겠다는 의지를 강조.. 머니S | 2025-01-31 09:40:46',\n",
       " 'press': '머니S',\n",
       " 'date': '2025-01-31 09:40:46',\n",
       " 'source': 'https://n.news.naver.com/mnews/article/417/0001054889'}"
      ]
     },
     "metadata": {},
     "output_type": "display_data"
    }
   ],
   "source": [
    "articles = driver.find_elements(By.CSS_SELECTOR, \".block1\")\n",
    "article_list = []\n",
    "for article in articles:\n",
    "    subject = article.find_element(By.CSS_SELECTOR, \".articleSubject\").text\n",
    "    summary = article.find_element(By.CSS_SELECTOR, \".articleSummary\").text\n",
    "    press = article.find_element(By.CSS_SELECTOR, \".press\").text\n",
    "    date = article.find_element(By.CSS_SELECTOR, \".wdate\").text\n",
    "    link = article.find_element(By.CSS_SELECTOR, \".articlesubject>a\").get_attribute(\"href\")\n",
    "\n",
    "    data = {\n",
    "        \"subject\": subject,\n",
    "        \"summary\": summary,\n",
    "        \"press\": press,\n",
    "        \"date\": date,\n",
    "        \"source\": link\n",
    "    }\n",
    "\n",
    "    display(data)\n",
    "    article_list.append(data)"
   ]
  },
  {
   "cell_type": "markdown",
   "metadata": {},
   "source": [
    "## Extracted data to dataframe"
   ]
  },
  {
   "cell_type": "code",
   "execution_count": 4,
   "metadata": {},
   "outputs": [
    {
     "data": {
      "text/html": [
       "<div>\n",
       "<style scoped>\n",
       "    .dataframe tbody tr th:only-of-type {\n",
       "        vertical-align: middle;\n",
       "    }\n",
       "\n",
       "    .dataframe tbody tr th {\n",
       "        vertical-align: top;\n",
       "    }\n",
       "\n",
       "    .dataframe thead th {\n",
       "        text-align: right;\n",
       "    }\n",
       "</style>\n",
       "<table border=\"1\" class=\"dataframe\">\n",
       "  <thead>\n",
       "    <tr style=\"text-align: right;\">\n",
       "      <th></th>\n",
       "      <th>subject</th>\n",
       "      <th>summary</th>\n",
       "      <th>press</th>\n",
       "      <th>date</th>\n",
       "      <th>source</th>\n",
       "    </tr>\n",
       "  </thead>\n",
       "  <tbody>\n",
       "    <tr>\n",
       "      <th>0</th>\n",
       "      <td>'딥시크 충격' SK하이닉스 울고·네이버 웃고…\"전략 재점검해야\"</td>\n",
       "      <td>'딥시크 충격'이 국내 증시에도 상륙하면서 AI(인공지능) 투자 판도가 뒤집어졌다....</td>\n",
       "      <td>머니투데이</td>\n",
       "      <td>2025-01-31 11:19:47</td>\n",
       "      <td>https://n.news.naver.com/mnews/article/008/000...</td>\n",
       "    </tr>\n",
       "    <tr>\n",
       "      <th>1</th>\n",
       "      <td>증권사 퇴직연금 운용금액 100조 돌파</td>\n",
       "      <td>작년 4분기 7.85%↑…103.9조 증권3사 실물이전 금액 9400억 퇴직연금 실...</td>\n",
       "      <td>헤럴드경제</td>\n",
       "      <td>2025-01-31 11:13:09</td>\n",
       "      <td>https://n.news.naver.com/mnews/article/016/000...</td>\n",
       "    </tr>\n",
       "    <tr>\n",
       "      <th>2</th>\n",
       "      <td>삼성전자·SK하이닉스 '철렁'…\"다음 주까지 긴가민가\"</td>\n",
       "      <td>● 삼성전자·SK하이닉스 급락, 조정일까 위기일까 '딥시크(Deepseek) 쇼크'...</td>\n",
       "      <td>한국경제TV</td>\n",
       "      <td>2025-01-31 11:12:33</td>\n",
       "      <td>https://n.news.naver.com/mnews/article/215/000...</td>\n",
       "    </tr>\n",
       "    <tr>\n",
       "      <th>3</th>\n",
       "      <td>서학개미 1월 투심도 트럼프 2기 ‘실세’ 머스크로 향했다</td>\n",
       "      <td>테슬라·테슬라ETF 순매수 1·3위 엔비디아·브로드컴 AI칩도 호재 딥시크 충격 변...</td>\n",
       "      <td>헤럴드경제</td>\n",
       "      <td>2025-01-31 11:12:16</td>\n",
       "      <td>https://n.news.naver.com/mnews/article/016/000...</td>\n",
       "    </tr>\n",
       "    <tr>\n",
       "      <th>4</th>\n",
       "      <td>'中 가성비 AI'에 발칵…딥시크 충격에 '비명' 쏟아진 종목</td>\n",
       "      <td>인공지능(AI) 서비스 확산 기대감에 한동안 올랐던 전력인프라주들이 일제 하락세를 ...</td>\n",
       "      <td>한국경제</td>\n",
       "      <td>2025-01-31 11:03:16</td>\n",
       "      <td>https://n.news.naver.com/mnews/article/015/000...</td>\n",
       "    </tr>\n",
       "    <tr>\n",
       "      <th>5</th>\n",
       "      <td>기업거버넌스포럼 “파행적 고려아연 임시 주총에 국격 추락”</td>\n",
       "      <td>최대주주 영풍의 의결권을 기습적으로 배제하면서 파행적으로 진행된 고려아연의 임시주주...</td>\n",
       "      <td>데일리안</td>\n",
       "      <td>2025-01-31 10:56:13</td>\n",
       "      <td>https://n.news.naver.com/mnews/article/119/000...</td>\n",
       "    </tr>\n",
       "    <tr>\n",
       "      <th>6</th>\n",
       "      <td>암호화폐 베테랑 \"비트코인 다음달 13만달러 돌파\"</td>\n",
       "      <td>월가에서 암호화폐 베테랑으로 불리는 제프 켄드릭 스탠다드차타드(SC) 애널리스트가 ...</td>\n",
       "      <td>한국경제TV</td>\n",
       "      <td>2025-01-31 10:43:15</td>\n",
       "      <td>https://n.news.naver.com/mnews/article/215/000...</td>\n",
       "    </tr>\n",
       "    <tr>\n",
       "      <th>7</th>\n",
       "      <td>삼성운용 'KODEX 200타겟위클리커버드콜', 두 달만에 순자산 1000억 돌파</td>\n",
       "      <td>최근 ‘세금 없는’ 국내 주식 시세차익과 장내 파생상품 수익을 활용해 매월 고배당과...</td>\n",
       "      <td>파이낸셜뉴스</td>\n",
       "      <td>2025-01-31 10:34:36</td>\n",
       "      <td>https://n.news.naver.com/mnews/article/014/000...</td>\n",
       "    </tr>\n",
       "    <tr>\n",
       "      <th>8</th>\n",
       "      <td>연휴 후 한국 증시, 반도체주 '딥시크 쇼크'</td>\n",
       "      <td>연휴를 마치고 개장한 코스피가 하락세로 출발했다. 연휴 기간 발생한 다양한 해외 이...</td>\n",
       "      <td>아시아경제</td>\n",
       "      <td>2025-01-31 10:11:09</td>\n",
       "      <td>https://n.news.naver.com/mnews/article/277/000...</td>\n",
       "    </tr>\n",
       "    <tr>\n",
       "      <th>9</th>\n",
       "      <td>메모리 양극화 심화에…삼성전자 4분기 반도체 영업익 2.9조(종합)</td>\n",
       "      <td>역대 2번째 연간 300조원대 매출…연간 R&amp;D·시설투자는 사상 최대 올해 '상저하...</td>\n",
       "      <td>연합뉴스</td>\n",
       "      <td>2025-01-31 10:09:54</td>\n",
       "      <td>https://n.news.naver.com/mnews/article/001/001...</td>\n",
       "    </tr>\n",
       "    <tr>\n",
       "      <th>10</th>\n",
       "      <td>‘딥시크 쇼크’에 관련주 희비…‘반도체’ 울고 ‘AI소프트웨어’ 웃고</td>\n",
       "      <td>‘딥시크 쇼크’ 영향으로 반도체장비 관련주와 인공지능(AI)소프트웨어 관련주의 희비...</td>\n",
       "      <td>매일경제</td>\n",
       "      <td>2025-01-31 10:09:08</td>\n",
       "      <td>https://n.news.naver.com/mnews/article/009/000...</td>\n",
       "    </tr>\n",
       "    <tr>\n",
       "      <th>11</th>\n",
       "      <td>\"백종원 믿고 샀는데\" 신저가 찍은 더본코리아…99.99%가 '비명'</td>\n",
       "      <td>백종원 대표의 더본코리아가 장 중 2%대 내리며 52주 신저가를 기록했다. 31일 ...</td>\n",
       "      <td>머니투데이</td>\n",
       "      <td>2025-01-31 10:08:44</td>\n",
       "      <td>https://n.news.naver.com/mnews/article/008/000...</td>\n",
       "    </tr>\n",
       "    <tr>\n",
       "      <th>12</th>\n",
       "      <td>미래운용 ‘TIGER 미국필라델피아AI반도체나스닥’, 순자산 3000억 돌파</td>\n",
       "      <td>미래에셋자산운용은 ‘TIGER 미국필라델피아AI반도체나스닥’ 상장지수펀드(ETF)의...</td>\n",
       "      <td>이데일리</td>\n",
       "      <td>2025-01-31 10:07:09</td>\n",
       "      <td>https://n.news.naver.com/mnews/article/018/000...</td>\n",
       "    </tr>\n",
       "    <tr>\n",
       "      <th>13</th>\n",
       "      <td>‘반도체 뒷걸음질’ 삼성전자…외국인 보유 비중 2년來 최저 [투자360]</td>\n",
       "      <td>50.24%…2023년 1월 이후 최저 외인 6개월 순매도 1위, 2위도 우선주 증...</td>\n",
       "      <td>헤럴드경제</td>\n",
       "      <td>2025-01-31 10:02:10</td>\n",
       "      <td>https://n.news.naver.com/mnews/article/016/000...</td>\n",
       "    </tr>\n",
       "    <tr>\n",
       "      <th>14</th>\n",
       "      <td>“투자자 99%가 손실이라니”…리니지 제국 다시 부활할까 [K주식 이걸 사? 말아?]</td>\n",
       "      <td>104만원→17만원 4년 만에 주저앉은 엔씨소프트 주가입니다. 한때 리니지 진성 유...</td>\n",
       "      <td>매일경제</td>\n",
       "      <td>2025-01-31 10:00:10</td>\n",
       "      <td>https://n.news.naver.com/mnews/article/009/000...</td>\n",
       "    </tr>\n",
       "    <tr>\n",
       "      <th>15</th>\n",
       "      <td>딥시크 충격에 SK하이닉스 약세…네이버·카카오 급등</td>\n",
       "      <td>설 연휴를 끝내고 개장한 국내 증시가 하락 출발했다. 연휴 기간 글로벌 증시에 충격...</td>\n",
       "      <td>아시아경제</td>\n",
       "      <td>2025-01-31 09:58:01</td>\n",
       "      <td>https://n.news.naver.com/mnews/article/277/000...</td>\n",
       "    </tr>\n",
       "    <tr>\n",
       "      <th>16</th>\n",
       "      <td>\"언젠간 오르겠지\" 버텼는데 적자 확대…호텔신라 목표가도 '뚝뚝'</td>\n",
       "      <td>지난해 4분기 부진한 실적을 낸 호텔신라가 장 중 3%대 하락 중이다. 호텔신라에 ...</td>\n",
       "      <td>머니투데이</td>\n",
       "      <td>2025-01-31 09:49:16</td>\n",
       "      <td>https://n.news.naver.com/mnews/article/008/000...</td>\n",
       "    </tr>\n",
       "    <tr>\n",
       "      <th>17</th>\n",
       "      <td>`딥시크 쇼크` 국장 덮쳤다…SK하이닉스 10%대↓</td>\n",
       "      <td>엔비디아 17% 폭락 여파 중국의 저비용 인공지능(AI) 딥시크(DeepSeek)의...</td>\n",
       "      <td>디지털타임스</td>\n",
       "      <td>2025-01-31 09:42:07</td>\n",
       "      <td>https://n.news.naver.com/mnews/article/029/000...</td>\n",
       "    </tr>\n",
       "    <tr>\n",
       "      <th>18</th>\n",
       "      <td>현금부자 주목, KODEX 200타겟위클리커버드콜…순자산 1000억 돌파</td>\n",
       "      <td>국내 자산과 연계된 타겟커버드콜 상품에 투자자 관심이 커진다. 1억원을 투자하면 월...</td>\n",
       "      <td>머니투데이</td>\n",
       "      <td>2025-01-31 09:41:32</td>\n",
       "      <td>https://n.news.naver.com/mnews/article/008/000...</td>\n",
       "    </tr>\n",
       "    <tr>\n",
       "      <th>19</th>\n",
       "      <td>허선호 미래에셋증권 대표 \"서학개미 13조 벌어, 중국·인도로 분산투자\"</td>\n",
       "      <td>허선호 미래에셋증권 대표가 최근 투자자들에게 보낸 투자레터를 보내 지난해 성과를 소...</td>\n",
       "      <td>머니S</td>\n",
       "      <td>2025-01-31 09:40:46</td>\n",
       "      <td>https://n.news.naver.com/mnews/article/417/000...</td>\n",
       "    </tr>\n",
       "  </tbody>\n",
       "</table>\n",
       "</div>"
      ],
      "text/plain": [
       "                                            subject  \\\n",
       "0              '딥시크 충격' SK하이닉스 울고·네이버 웃고…\"전략 재점검해야\"   \n",
       "1                             증권사 퇴직연금 운용금액 100조 돌파   \n",
       "2                    삼성전자·SK하이닉스 '철렁'…\"다음 주까지 긴가민가\"   \n",
       "3                  서학개미 1월 투심도 트럼프 2기 ‘실세’ 머스크로 향했다   \n",
       "4                '中 가성비 AI'에 발칵…딥시크 충격에 '비명' 쏟아진 종목   \n",
       "5                  기업거버넌스포럼 “파행적 고려아연 임시 주총에 국격 추락”   \n",
       "6                      암호화폐 베테랑 \"비트코인 다음달 13만달러 돌파\"   \n",
       "7     삼성운용 'KODEX 200타겟위클리커버드콜', 두 달만에 순자산 1000억 돌파   \n",
       "8                         연휴 후 한국 증시, 반도체주 '딥시크 쇼크'   \n",
       "9             메모리 양극화 심화에…삼성전자 4분기 반도체 영업익 2.9조(종합)   \n",
       "10           ‘딥시크 쇼크’에 관련주 희비…‘반도체’ 울고 ‘AI소프트웨어’ 웃고   \n",
       "11           \"백종원 믿고 샀는데\" 신저가 찍은 더본코리아…99.99%가 '비명'   \n",
       "12       미래운용 ‘TIGER 미국필라델피아AI반도체나스닥’, 순자산 3000억 돌파   \n",
       "13         ‘반도체 뒷걸음질’ 삼성전자…외국인 보유 비중 2년來 최저 [투자360]   \n",
       "14  “투자자 99%가 손실이라니”…리니지 제국 다시 부활할까 [K주식 이걸 사? 말아?]   \n",
       "15                     딥시크 충격에 SK하이닉스 약세…네이버·카카오 급등   \n",
       "16             \"언젠간 오르겠지\" 버텼는데 적자 확대…호텔신라 목표가도 '뚝뚝'   \n",
       "17                     `딥시크 쇼크` 국장 덮쳤다…SK하이닉스 10%대↓   \n",
       "18         현금부자 주목, KODEX 200타겟위클리커버드콜…순자산 1000억 돌파   \n",
       "19         허선호 미래에셋증권 대표 \"서학개미 13조 벌어, 중국·인도로 분산투자\"   \n",
       "\n",
       "                                              summary   press  \\\n",
       "0   '딥시크 충격'이 국내 증시에도 상륙하면서 AI(인공지능) 투자 판도가 뒤집어졌다....   머니투데이   \n",
       "1   작년 4분기 7.85%↑…103.9조 증권3사 실물이전 금액 9400억 퇴직연금 실...   헤럴드경제   \n",
       "2   ● 삼성전자·SK하이닉스 급락, 조정일까 위기일까 '딥시크(Deepseek) 쇼크'...  한국경제TV   \n",
       "3   테슬라·테슬라ETF 순매수 1·3위 엔비디아·브로드컴 AI칩도 호재 딥시크 충격 변...   헤럴드경제   \n",
       "4   인공지능(AI) 서비스 확산 기대감에 한동안 올랐던 전력인프라주들이 일제 하락세를 ...    한국경제   \n",
       "5   최대주주 영풍의 의결권을 기습적으로 배제하면서 파행적으로 진행된 고려아연의 임시주주...    데일리안   \n",
       "6   월가에서 암호화폐 베테랑으로 불리는 제프 켄드릭 스탠다드차타드(SC) 애널리스트가 ...  한국경제TV   \n",
       "7   최근 ‘세금 없는’ 국내 주식 시세차익과 장내 파생상품 수익을 활용해 매월 고배당과...  파이낸셜뉴스   \n",
       "8   연휴를 마치고 개장한 코스피가 하락세로 출발했다. 연휴 기간 발생한 다양한 해외 이...   아시아경제   \n",
       "9   역대 2번째 연간 300조원대 매출…연간 R&D·시설투자는 사상 최대 올해 '상저하...    연합뉴스   \n",
       "10  ‘딥시크 쇼크’ 영향으로 반도체장비 관련주와 인공지능(AI)소프트웨어 관련주의 희비...    매일경제   \n",
       "11  백종원 대표의 더본코리아가 장 중 2%대 내리며 52주 신저가를 기록했다. 31일 ...   머니투데이   \n",
       "12  미래에셋자산운용은 ‘TIGER 미국필라델피아AI반도체나스닥’ 상장지수펀드(ETF)의...    이데일리   \n",
       "13  50.24%…2023년 1월 이후 최저 외인 6개월 순매도 1위, 2위도 우선주 증...   헤럴드경제   \n",
       "14  104만원→17만원 4년 만에 주저앉은 엔씨소프트 주가입니다. 한때 리니지 진성 유...    매일경제   \n",
       "15  설 연휴를 끝내고 개장한 국내 증시가 하락 출발했다. 연휴 기간 글로벌 증시에 충격...   아시아경제   \n",
       "16  지난해 4분기 부진한 실적을 낸 호텔신라가 장 중 3%대 하락 중이다. 호텔신라에 ...   머니투데이   \n",
       "17  엔비디아 17% 폭락 여파 중국의 저비용 인공지능(AI) 딥시크(DeepSeek)의...  디지털타임스   \n",
       "18  국내 자산과 연계된 타겟커버드콜 상품에 투자자 관심이 커진다. 1억원을 투자하면 월...   머니투데이   \n",
       "19  허선호 미래에셋증권 대표가 최근 투자자들에게 보낸 투자레터를 보내 지난해 성과를 소...     머니S   \n",
       "\n",
       "                   date                                             source  \n",
       "0   2025-01-31 11:19:47  https://n.news.naver.com/mnews/article/008/000...  \n",
       "1   2025-01-31 11:13:09  https://n.news.naver.com/mnews/article/016/000...  \n",
       "2   2025-01-31 11:12:33  https://n.news.naver.com/mnews/article/215/000...  \n",
       "3   2025-01-31 11:12:16  https://n.news.naver.com/mnews/article/016/000...  \n",
       "4   2025-01-31 11:03:16  https://n.news.naver.com/mnews/article/015/000...  \n",
       "5   2025-01-31 10:56:13  https://n.news.naver.com/mnews/article/119/000...  \n",
       "6   2025-01-31 10:43:15  https://n.news.naver.com/mnews/article/215/000...  \n",
       "7   2025-01-31 10:34:36  https://n.news.naver.com/mnews/article/014/000...  \n",
       "8   2025-01-31 10:11:09  https://n.news.naver.com/mnews/article/277/000...  \n",
       "9   2025-01-31 10:09:54  https://n.news.naver.com/mnews/article/001/001...  \n",
       "10  2025-01-31 10:09:08  https://n.news.naver.com/mnews/article/009/000...  \n",
       "11  2025-01-31 10:08:44  https://n.news.naver.com/mnews/article/008/000...  \n",
       "12  2025-01-31 10:07:09  https://n.news.naver.com/mnews/article/018/000...  \n",
       "13  2025-01-31 10:02:10  https://n.news.naver.com/mnews/article/016/000...  \n",
       "14  2025-01-31 10:00:10  https://n.news.naver.com/mnews/article/009/000...  \n",
       "15  2025-01-31 09:58:01  https://n.news.naver.com/mnews/article/277/000...  \n",
       "16  2025-01-31 09:49:16  https://n.news.naver.com/mnews/article/008/000...  \n",
       "17  2025-01-31 09:42:07  https://n.news.naver.com/mnews/article/029/000...  \n",
       "18  2025-01-31 09:41:32  https://n.news.naver.com/mnews/article/008/000...  \n",
       "19  2025-01-31 09:40:46  https://n.news.naver.com/mnews/article/417/000...  "
      ]
     },
     "execution_count": 4,
     "metadata": {},
     "output_type": "execute_result"
    }
   ],
   "source": [
    "df = pd.DataFrame(article_list)\n",
    "df"
   ]
  },
  {
   "cell_type": "markdown",
   "metadata": {},
   "source": [
    "## Export Pandas DataFrame to CSV File"
   ]
  },
  {
   "cell_type": "code",
   "execution_count": 5,
   "metadata": {},
   "outputs": [],
   "source": [
    "df.to_csv(\"Naver Financial News\", encoding = \"utf-8\", index = False)"
   ]
  },
  {
   "cell_type": "markdown",
   "metadata": {},
   "source": [
    "## Export Pandas DataFrame to Excel File"
   ]
  },
  {
   "cell_type": "code",
   "execution_count": 7,
   "metadata": {},
   "outputs": [],
   "source": [
    "df.to_excel(\"Naver_Financial_News.xlsx\", index = False)"
   ]
  },
  {
   "cell_type": "markdown",
   "metadata": {},
   "source": [
    "# Collect News Articles Based on Specified Date"
   ]
  },
  {
   "cell_type": "markdown",
   "metadata": {},
   "source": [
    "## Imports"
   ]
  },
  {
   "cell_type": "code",
   "execution_count": 9,
   "metadata": {},
   "outputs": [],
   "source": [
    "from selenium.webdriver import Chrome\n",
    "from selenium.webdriver.common.by import By\n",
    "import datetime"
   ]
  },
  {
   "cell_type": "markdown",
   "metadata": {},
   "source": [
    "## Date Input from User"
   ]
  },
  {
   "cell_type": "code",
   "execution_count": 16,
   "metadata": {},
   "outputs": [
    {
     "data": {
      "text/plain": [
       "'2025-01-31'"
      ]
     },
     "execution_count": 16,
     "metadata": {},
     "output_type": "execute_result"
    }
   ],
   "source": [
    "date = input(\"Date: (yyyyy/mm/dd)\")\n",
    "date = f\"{date[:4]}-{date[5:7]}-{date[8:]}\"\n",
    "date"
   ]
  },
  {
   "cell_type": "markdown",
   "metadata": {},
   "source": [
    "## URL setup"
   ]
  },
  {
   "cell_type": "code",
   "execution_count": 17,
   "metadata": {},
   "outputs": [
    {
     "data": {
      "text/plain": [
       "'https://finance.naver.com/news/mainnews.naver?date=2025-01-31'"
      ]
     },
     "execution_count": 17,
     "metadata": {},
     "output_type": "execute_result"
    }
   ],
   "source": [
    "url = \"https://finance.naver.com/news/mainnews.naver?date=\"+date\n",
    "url"
   ]
  },
  {
   "cell_type": "markdown",
   "metadata": {},
   "source": [
    "## Create webdriver instant"
   ]
  },
  {
   "cell_type": "code",
   "execution_count": 19,
   "metadata": {},
   "outputs": [],
   "source": [
    "driver = Chrome()\n",
    "driver.get(url)"
   ]
  },
  {
   "cell_type": "markdown",
   "metadata": {},
   "source": [
    "## Extract Elements"
   ]
  },
  {
   "cell_type": "code",
   "execution_count": 20,
   "metadata": {},
   "outputs": [
    {
     "data": {
      "text/plain": [
       "{'subject': \"저가매수 타이밍? '딥시크 타격' HD현대일렉트릭 순매수 1위[주식 초고수는 지금]\",\n",
       " 'summary': '미래에셋증권(006800)에서 거래하는 고수익 투자자들이 24일 오전 가장 많이 순매수한 종목은 HD현대일렉트릭(267260)으로 나타.. 서울경제 | 2025-01-31 11:53:10',\n",
       " 'press': '서울경제',\n",
       " 'date': '2025-01-31 11:53:10',\n",
       " 'source': 'https://n.news.naver.com/mnews/article/011/0004445246'}"
      ]
     },
     "metadata": {},
     "output_type": "display_data"
    },
    {
     "data": {
      "text/plain": [
       "{'subject': '딥시크발 ‘딥쇼크’… SK하이닉스 장중 11% 급락',\n",
       " 'summary': '코스피 전체는 0.1% 하락 출발 한미반도체 6%·삼성전자 2%↓ 인프라 관련 투자 감소 우려에 전력기기 종목들도 낙폭 커져 미국 3대.. 문화일보 | 2025-01-31 11:47:31',\n",
       " 'press': '문화일보',\n",
       " 'date': '2025-01-31 11:47:31',\n",
       " 'source': 'https://n.news.naver.com/mnews/article/021/0002687009'}"
      ]
     },
     "metadata": {},
     "output_type": "display_data"
    },
    {
     "data": {
      "text/plain": [
       "{'subject': 'SEC, 비트코인·이더리움 혼합 ETF 승인…알트코인 ETF 출시 가속화 기대',\n",
       " 'summary': '비트와이즈, 도지코인 ETF도 신청 미국에서 가상자산을 담고 있는 상장지수펀드(ETF) 출시가 탄력을 받고 있다. 이에 따라 알트코인 .. 매일경제 | 2025-01-31 11:45:08',\n",
       " 'press': '매일경제',\n",
       " 'date': '2025-01-31 11:45:08',\n",
       " 'source': 'https://n.news.naver.com/mnews/article/009/0005436313'}"
      ]
     },
     "metadata": {},
     "output_type": "display_data"
    },
    {
     "data": {
      "text/plain": [
       "{'subject': '이거 했더니 솔라나 일년 수익률 212%...단순 보유보다 20% 더 이득',\n",
       " 'summary': '보상 쌓이는 스테이킹하면 추가 수익 업비트 스테이킹 참여 3.8조 넘어 지난해 업비트에서 솔라나(SOL)를 1년간 스테이킹한 투자자는 .. 매일경제 | 2025-01-31 11:44:15',\n",
       " 'press': '매일경제',\n",
       " 'date': '2025-01-31 11:44:15',\n",
       " 'source': 'https://n.news.naver.com/mnews/article/009/0005436312'}"
      ]
     },
     "metadata": {},
     "output_type": "display_data"
    },
    {
     "data": {
      "text/plain": [
       "{'subject': '딥시크 수혜?…애플, 아이폰 부진에도 주가 상승반전',\n",
       " 'summary': '애플의 주가가 실적 발표 후 시간외거래에서 상승 반전했다. 딥쇼크 쇼크로 애플의 뒤늦은 인공지능(AI) 투자 전략에 대한 재평가가 이뤄.. 이데일리 | 2025-01-31 11:39:09',\n",
       " 'press': '이데일리',\n",
       " 'date': '2025-01-31 11:39:09',\n",
       " 'source': 'https://n.news.naver.com/mnews/article/018/0005933868'}"
      ]
     },
     "metadata": {},
     "output_type": "display_data"
    },
    {
     "data": {
      "text/plain": [
       "{'subject': '\\'딥시크 충격\\' SK하이닉스 울고·네이버 웃고…\"전략 재점검해야\"',\n",
       " 'summary': \"'딥시크 충격'이 국내 증시에도 상륙하면서 AI(인공지능) 투자 판도가 뒤집어졌다. AI 대표 수혜 주로 주가 상승세를 달리던 SK하이.. 머니투데이 | 2025-01-31 11:19:47\",\n",
       " 'press': '머니투데이',\n",
       " 'date': '2025-01-31 11:19:47',\n",
       " 'source': 'https://n.news.naver.com/mnews/article/008/0005147096'}"
      ]
     },
     "metadata": {},
     "output_type": "display_data"
    },
    {
     "data": {
      "text/plain": [
       "{'subject': '증권사 퇴직연금 운용금액 100조 돌파',\n",
       " 'summary': '작년 4분기 7.85%↑…103.9조 증권3사 실물이전 금액 9400억 퇴직연금 실물이전 제도 시행 3개월 만에 증권사의 퇴직연금 운용.. 헤럴드경제 | 2025-01-31 11:13:09',\n",
       " 'press': '헤럴드경제',\n",
       " 'date': '2025-01-31 11:13:09',\n",
       " 'source': 'https://n.news.naver.com/mnews/article/016/0002422046'}"
      ]
     },
     "metadata": {},
     "output_type": "display_data"
    },
    {
     "data": {
      "text/plain": [
       "{'subject': '삼성전자·SK하이닉스 \\'철렁\\'…\"다음 주까지 긴가민가\"',\n",
       " 'summary': \"● 삼성전자·SK하이닉스 급락, 조정일까 위기일까 '딥시크(Deepseek) 쇼크'로 삼성전자와 SK하이닉스가 조정을 받고 있는 가운데.. 한국경제TV | 2025-01-31 11:12:33\",\n",
       " 'press': '한국경제TV',\n",
       " 'date': '2025-01-31 11:12:33',\n",
       " 'source': 'https://n.news.naver.com/mnews/article/215/0001196890'}"
      ]
     },
     "metadata": {},
     "output_type": "display_data"
    },
    {
     "data": {
      "text/plain": [
       "{'subject': '서학개미 1월 투심도 트럼프 2기 ‘실세’ 머스크로 향했다',\n",
       " 'summary': '테슬라·테슬라ETF 순매수 1·3위 엔비디아·브로드컴 AI칩도 호재 딥시크 충격 변동성엔 ‘주의’ 조언 2025년 을사년(乙巳年) 새해.. 헤럴드경제 | 2025-01-31 11:12:16',\n",
       " 'press': '헤럴드경제',\n",
       " 'date': '2025-01-31 11:12:16',\n",
       " 'source': 'https://n.news.naver.com/mnews/article/016/0002422045'}"
      ]
     },
     "metadata": {},
     "output_type": "display_data"
    },
    {
     "data": {
      "text/plain": [
       "{'subject': \"'中 가성비 AI'에 발칵…딥시크 충격에 '비명' 쏟아진 종목\",\n",
       " 'summary': \"인공지능(AI) 서비스 확산 기대감에 한동안 올랐던 전력인프라주들이 일제 하락세를 타고 있다. 중국 딥시크가 '가성비 AI'를 내놓으면.. 한국경제 | 2025-01-31 11:03:16\",\n",
       " 'press': '한국경제',\n",
       " 'date': '2025-01-31 11:03:16',\n",
       " 'source': 'https://n.news.naver.com/mnews/article/015/0005087851'}"
      ]
     },
     "metadata": {},
     "output_type": "display_data"
    },
    {
     "data": {
      "text/plain": [
       "{'subject': '기업거버넌스포럼 “파행적 고려아연 임시 주총에 국격 추락”',\n",
       " 'summary': '최대주주 영풍의 의결권을 기습적으로 배제하면서 파행적으로 진행된 고려아연의 임시주주총회에 대해 국격을 추락시키는 행위였다는 비판이 제기.. 데일리안 | 2025-01-31 10:56:13',\n",
       " 'press': '데일리안',\n",
       " 'date': '2025-01-31 10:56:13',\n",
       " 'source': 'https://n.news.naver.com/mnews/article/119/0002918531'}"
      ]
     },
     "metadata": {},
     "output_type": "display_data"
    },
    {
     "data": {
      "text/plain": [
       "{'subject': '암호화폐 베테랑 \"비트코인 다음달 13만달러 돌파\"',\n",
       " 'summary': '월가에서 암호화폐 베테랑으로 불리는 제프 켄드릭 스탠다드차타드(SC) 애널리스트가 비트코인 강세론을 주장하고 나섰다. 30일(현지시간).. 한국경제TV | 2025-01-31 10:43:15',\n",
       " 'press': '한국경제TV',\n",
       " 'date': '2025-01-31 10:43:15',\n",
       " 'source': 'https://n.news.naver.com/mnews/article/215/0001196881'}"
      ]
     },
     "metadata": {},
     "output_type": "display_data"
    },
    {
     "data": {
      "text/plain": [
       "{'subject': \"삼성운용 'KODEX 200타겟위클리커버드콜', 두 달만에 순자산 1000억 돌파\",\n",
       " 'summary': '최근 ‘세금 없는’ 국내 주식 시세차익과 장내 파생상품 수익을 활용해 매월 고배당과 추가 수익을 추구하는 국내 자산 연계 타겟커버드콜에.. 파이낸셜뉴스 | 2025-01-31 10:34:36',\n",
       " 'press': '파이낸셜뉴스',\n",
       " 'date': '2025-01-31 10:34:36',\n",
       " 'source': 'https://n.news.naver.com/mnews/article/014/0005301814'}"
      ]
     },
     "metadata": {},
     "output_type": "display_data"
    },
    {
     "data": {
      "text/plain": [
       "{'subject': \"연휴 후 한국 증시, 반도체주 '딥시크 쇼크'\",\n",
       " 'summary': '연휴를 마치고 개장한 코스피가 하락세로 출발했다. 연휴 기간 발생한 다양한 해외 이슈들이 한꺼번에 반영되며 지수에 영향을 미친 것으로 .. 아시아경제 | 2025-01-31 10:11:09',\n",
       " 'press': '아시아경제',\n",
       " 'date': '2025-01-31 10:11:09',\n",
       " 'source': 'https://n.news.naver.com/mnews/article/277/0005539669'}"
      ]
     },
     "metadata": {},
     "output_type": "display_data"
    },
    {
     "data": {
      "text/plain": [
       "{'subject': '메모리 양극화 심화에…삼성전자 4분기 반도체 영업익 2.9조(종합)',\n",
       " 'summary': \"역대 2번째 연간 300조원대 매출…연간 R&D·시설투자는 사상 최대 올해 '상저하고' 흐름 보일 듯…HBM3E 판매 확대 관건 삼성전.. 연합뉴스 | 2025-01-31 10:09:54\",\n",
       " 'press': '연합뉴스',\n",
       " 'date': '2025-01-31 10:09:54',\n",
       " 'source': 'https://n.news.naver.com/mnews/article/001/0015184779'}"
      ]
     },
     "metadata": {},
     "output_type": "display_data"
    },
    {
     "data": {
      "text/plain": [
       "{'subject': '‘딥시크 쇼크’에 관련주 희비…‘반도체’ 울고 ‘AI소프트웨어’ 웃고',\n",
       " 'summary': '‘딥시크 쇼크’ 영향으로 반도체장비 관련주와 인공지능(AI)소프트웨어 관련주의 희비가 엇갈리고 있다. 31일 오전 9시 55분 현재 한.. 매일경제 | 2025-01-31 10:09:08',\n",
       " 'press': '매일경제',\n",
       " 'date': '2025-01-31 10:09:08',\n",
       " 'source': 'https://n.news.naver.com/mnews/article/009/0005436231'}"
      ]
     },
     "metadata": {},
     "output_type": "display_data"
    },
    {
     "data": {
      "text/plain": [
       "{'subject': '\"백종원 믿고 샀는데\" 신저가 찍은 더본코리아…99.99%가 \\'비명\\'',\n",
       " 'summary': '백종원 대표의 더본코리아가 장 중 2%대 내리며 52주 신저가를 기록했다. 31일 오전 9시55분 기준 코스피 시장에서 더본코리아는 전.. 머니투데이 | 2025-01-31 10:08:44',\n",
       " 'press': '머니투데이',\n",
       " 'date': '2025-01-31 10:08:44',\n",
       " 'source': 'https://n.news.naver.com/mnews/article/008/0005147053'}"
      ]
     },
     "metadata": {},
     "output_type": "display_data"
    },
    {
     "data": {
      "text/plain": [
       "{'subject': '미래운용 ‘TIGER 미국필라델피아AI반도체나스닥’, 순자산 3000억 돌파',\n",
       " 'summary': '미래에셋자산운용은 ‘TIGER 미국필라델피아AI반도체나스닥’ 상장지수펀드(ETF)의 순자산이 3000억원을 돌파했다고 31일 밝혔다. .. 이데일리 | 2025-01-31 10:07:09',\n",
       " 'press': '이데일리',\n",
       " 'date': '2025-01-31 10:07:09',\n",
       " 'source': 'https://n.news.naver.com/mnews/article/018/0005933797'}"
      ]
     },
     "metadata": {},
     "output_type": "display_data"
    },
    {
     "data": {
      "text/plain": [
       "{'subject': '‘반도체 뒷걸음질’ 삼성전자…외국인 보유 비중 2년來 최저 [투자360]',\n",
       " 'summary': '50.24%…2023년 1월 이후 최저 외인 6개월 순매도 1위, 2위도 우선주 증권사 7곳 이달 목표주가 하향 ‘가성비 AI 모델’ .. 헤럴드경제 | 2025-01-31 10:02:10',\n",
       " 'press': '헤럴드경제',\n",
       " 'date': '2025-01-31 10:02:10',\n",
       " 'source': 'https://n.news.naver.com/mnews/article/016/0002421966'}"
      ]
     },
     "metadata": {},
     "output_type": "display_data"
    },
    {
     "data": {
      "text/plain": [
       "{'subject': '“투자자 99%가 손실이라니”…리니지 제국 다시 부활할까 [K주식 이걸 사? 말아?]',\n",
       " 'summary': '104만원→17만원 4년 만에 주저앉은 엔씨소프트 주가입니다. 한때 리니지 진성 유저, 이른바 ‘린저씨’들의 사랑을 듬뿍 받으며 국내 .. 매일경제 | 2025-01-31 10:00:10',\n",
       " 'press': '매일경제',\n",
       " 'date': '2025-01-31 10:00:10',\n",
       " 'source': 'https://n.news.naver.com/mnews/article/009/0005436226'}"
      ]
     },
     "metadata": {},
     "output_type": "display_data"
    }
   ],
   "source": [
    "articles = driver.find_elements(By.CSS_SELECTOR, \".block1\")\n",
    "article_list = []\n",
    "for article in articles:\n",
    "    subject = article.find_element(By.CSS_SELECTOR, \".articleSubject\").text\n",
    "    summary = article.find_element(By.CSS_SELECTOR, \".articleSummary\").text\n",
    "    press = article.find_element(By.CSS_SELECTOR, \".press\").text\n",
    "    date = article.find_element(By.CSS_SELECTOR, \".wdate\").text\n",
    "    link = article.find_element(By.CSS_SELECTOR, \".articlesubject>a\").get_attribute(\"href\")\n",
    "\n",
    "    data = {\n",
    "        \"subject\": subject,\n",
    "        \"summary\": summary,\n",
    "        \"press\": press,\n",
    "        \"date\": date,\n",
    "        \"source\": link\n",
    "    }\n",
    "\n",
    "    display(data)\n",
    "    article_list.append(data)"
   ]
  }
 ],
 "metadata": {
  "kernelspec": {
   "display_name": "Python 3",
   "language": "python",
   "name": "python3"
  },
  "language_info": {
   "codemirror_mode": {
    "name": "ipython",
    "version": 3
   },
   "file_extension": ".py",
   "mimetype": "text/x-python",
   "name": "python",
   "nbconvert_exporter": "python",
   "pygments_lexer": "ipython3",
   "version": "3.13.1"
  }
 },
 "nbformat": 4,
 "nbformat_minor": 2
}
